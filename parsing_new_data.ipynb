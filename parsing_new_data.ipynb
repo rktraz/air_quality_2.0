{
 "cells": [
  {
   "cell_type": "code",
   "execution_count": 2,
   "id": "c38cfb72-fab8-429b-a52d-a9ee0d8568c8",
   "metadata": {
    "tags": []
   },
   "outputs": [],
   "source": [
    "import os\n",
    "import datetime\n",
    "import time\n",
    "import requests\n",
    "import pandas as pd\n",
    "import json\n",
    "import ast\n",
    "\n",
    "from geopy.geocoders import Nominatim"
   ]
  },
  {
   "cell_type": "code",
   "execution_count": 3,
   "id": "f01ee807-4c78-43eb-b2d1-22a1bdd669b8",
   "metadata": {
    "tags": []
   },
   "outputs": [],
   "source": [
    "def convert_date_to_unix(x):\n",
    "    \"\"\"\n",
    "    Convert datetime to unix time in milliseconds.\n",
    "    \"\"\"\n",
    "    dt_obj = datetime.datetime.strptime(str(x), '%Y-%m-%d %H:%M:%S')\n",
    "    dt_obj = int(dt_obj.timestamp() * 1000)\n",
    "    return dt_obj"
   ]
  },
  {
   "cell_type": "code",
   "execution_count": 4,
   "id": "095b2135-ab96-4fdf-a690-a8485fd51cef",
   "metadata": {
    "tags": []
   },
   "outputs": [],
   "source": [
    "def get_city_coordinates(city_name: str):\n",
    "    \"\"\"\n",
    "    Takes city name and returns its latitude and longitude (rounded to 2 digits after dot).\n",
    "    \"\"\" \n",
    "    # Initialize Nominatim API (for getting lat and long of the city)\n",
    "    geolocator = Nominatim(user_agent=\"MyApp\")\n",
    "    city = geolocator.geocode(city_name)\n",
    "\n",
    "    latitude = round(city.latitude, 2)\n",
    "    longitude = round(city.longitude, 2)\n",
    "    \n",
    "    return latitude, longitude"
   ]
  },
  {
   "cell_type": "markdown",
   "id": "272d19a6-5636-461a-9483-bdeae67e56df",
   "metadata": {
    "tags": []
   },
   "source": [
    "# Representing the Target cities "
   ]
  },
  {
   "cell_type": "code",
   "execution_count": 32,
   "id": "50d04cc5-6788-4a4c-9f87-c2e00b5fce49",
   "metadata": {
    "tags": []
   },
   "outputs": [],
   "source": [
    "with open('target_cities.json') as json_file:\n",
    "    target_cities = json.load(json_file)"
   ]
  },
  {
   "cell_type": "code",
   "execution_count": 33,
   "id": "2cb90572-d477-42dd-993f-f50ff326aaaa",
   "metadata": {
    "tags": []
   },
   "outputs": [
    {
     "name": "stdout",
     "output_type": "stream",
     "text": [
      "EU\n",
      "17\n",
      "US\n",
      "13\n",
      "Seattle\n",
      "15\n"
     ]
    }
   ],
   "source": [
    "for i in target_cities:\n",
    "    print(i)\n",
    "    print(len(target_cities[i]))"
   ]
  },
  {
   "cell_type": "code",
   "execution_count": 34,
   "id": "c4716d04-7c60-4303-8f64-835e927185fa",
   "metadata": {
    "scrolled": true,
    "tags": []
   },
   "outputs": [
    {
     "name": "stdout",
     "output_type": "stream",
     "text": [
      "{'EU': ['Amsterdam',\n",
      "        'Athina',\n",
      "        'Berlin',\n",
      "        'Gdansk',\n",
      "        'Kraków',\n",
      "        'London',\n",
      "        'Madrid',\n",
      "        'Marseille',\n",
      "        'Milano',\n",
      "        'München',\n",
      "        'Napoli',\n",
      "        'Paris',\n",
      "        'Sevilla',\n",
      "        'Stockholm',\n",
      "        'Tallinn',\n",
      "        'Varna',\n",
      "        'Wien'],\n",
      " 'Seattle': {'Seattle - Bellevue-SE 12th St': [47.60086, -122.1484],\n",
      "             'Seattle - DARRINGTON - FIR ST (Darrington High School)': [48.2469,\n",
      "                                                                        -121.6031],\n",
      "             'Seattle - KENT - JAMES & CENTRAL': [47.38611, -122.23028],\n",
      "             'Seattle - LAKE FOREST PARK TOWNE CENTER': [47.755, -122.2806],\n",
      "             'Seattle - MARYSVILLE - 7TH AVE (Marysville Junior High)': [48.05432,\n",
      "                                                                         -122.17153],\n",
      "             'Seattle - NORTH BEND - NORTH BEND WAY': [47.49022, -121.77278],\n",
      "             'Seattle - SEATTLE - BEACON HILL': [47.56824, -122.30863],\n",
      "             'Seattle - SEATTLE - DUWAMISH': [47.55975, -122.33827],\n",
      "             'Seattle - SEATTLE - SOUTH PARK #2': [47.53091, -122.3208],\n",
      "             'Seattle - Seattle-10th & Weller': [47.59722, -122.31972],\n",
      "             'Seattle - TACOMA - ALEXANDER AVE': [47.2656, -122.3858],\n",
      "             'Seattle - TACOMA - L STREET': [47.1864, -122.4517],\n",
      "             'Seattle - Tacoma-S 36th St': [47.22634, -122.46256],\n",
      "             'Seattle - Tukwila Allentown': [47.49854, -122.27839],\n",
      "             'Seattle - Tulalip-Totem Beach Rd': [48.06534, -122.28519]},\n",
      " 'US': ['Albuquerque',\n",
      "        'Atlanta',\n",
      "        'Chicago',\n",
      "        'Columbus',\n",
      "        'Dallas',\n",
      "        'Denver',\n",
      "        'Houston',\n",
      "        'Los Angeles',\n",
      "        'New York',\n",
      "        'Phoenix-Mesa',\n",
      "        'Salt Lake City',\n",
      "        'San Francisco',\n",
      "        'Tampa']}\n"
     ]
    }
   ],
   "source": [
    "from pprint import pprint\n",
    "\n",
    "pprint(target_cities)"
   ]
  },
  {
   "cell_type": "code",
   "execution_count": 135,
   "id": "65c47d7e-4647-40ae-aee5-f07fa52d3c1a",
   "metadata": {
    "tags": []
   },
   "outputs": [],
   "source": [
    "# with open(\"target_cities.json\", \"w\") as json_file:\n",
    "#     json.dump(target_cities, json_file)"
   ]
  },
  {
   "cell_type": "markdown",
   "id": "8438ef12-e071-4a98-88ff-40dec3bd78fe",
   "metadata": {
    "jp-MarkdownHeadingCollapsed": true,
    "tags": []
   },
   "source": [
    "### ALL target cities on the one map"
   ]
  },
  {
   "cell_type": "code",
   "execution_count": 139,
   "id": "abc2a63f-73e6-4263-8931-ef4f6ab23cdc",
   "metadata": {},
   "outputs": [],
   "source": [
    "# Create a folium map centered on the first location in the list\n",
    "map = folium.Map(location=[42.57, -44.092], zoom_start=3)\n",
    "\n",
    "for city in target_cities[\"EU\"]:\n",
    "    latitude, longitude = get_city_coordinates(city)\n",
    "    folium.Marker(location=[latitude, longitude]).add_to(map)\n",
    "    \n",
    "for city in target_cities[\"US\"]:\n",
    "    latitude, longitude = get_city_coordinates(city)\n",
    "    folium.Marker(location=[latitude, longitude]).add_to(map)\n",
    "\n",
    "for city in target_cities[\"Seattle\"]:\n",
    "    latitude, longitude = target_cities[\"Seattle\"][city]\n",
    "    folium.Marker(location=[latitude, longitude]).add_to(map)\n",
    "\n",
    "# Save the map to an HTML file\n",
    "map.save(\"map_all_target_cities.html\")"
   ]
  },
  {
   "cell_type": "markdown",
   "id": "e0f22dd6-4049-43a2-bd50-772ade3a09f1",
   "metadata": {
    "jp-MarkdownHeadingCollapsed": true,
    "tags": []
   },
   "source": [
    "# Air Quality [Open Meteo](https://open-meteo.com/en/docs/air-quality-api)"
   ]
  },
  {
   "cell_type": "markdown",
   "id": "8131d01f-0422-404e-bad6-aaa1c6d6e8d3",
   "metadata": {},
   "source": [
    "### I will be using this functionality to fill gaps / parse recent data for all my target cities (locations).\n",
    "\n",
    "#### Note that Open Meteo gives data from `2022-08-04` till `(today + 6 days)` time period."
   ]
  },
  {
   "cell_type": "code",
   "execution_count": 36,
   "id": "31fafb7d-8217-481a-a126-1385e8ddd64c",
   "metadata": {
    "tags": []
   },
   "outputs": [],
   "source": [
    "def get_aqi_data_from_open_meteo(city_name: str,\n",
    "                                 start_date: str,\n",
    "                                 end_date: str,\n",
    "                                 coordinates: list = None,\n",
    "                                 pollutant: str = \"pm2_5\"):\n",
    "    \"\"\"\n",
    "    Takes [city name OR coordinates] and returns pandas DataFrame with AQI data.\n",
    "    \n",
    "    Examples of arguments:\n",
    "        ...\n",
    "        coordinates=(47.755, -122.2806),\n",
    "        start_date=\"2023-01-01\",\n",
    "        pollutant=\"no2\"\n",
    "        ...\n",
    "    \"\"\"\n",
    "    start_of_cell = time.time()\n",
    "    \n",
    "    if coordinates:\n",
    "        latitude, longitude = coordinates\n",
    "    else:\n",
    "        latitude, longitude = get_city_coordinates(city_name=city_name)\n",
    "    \n",
    "    pollutant = pollutant.lower()\n",
    "    if pollutant == \"pm2.5\":\n",
    "        pollutant = \"pm2_5\"\n",
    "    \n",
    "    # make it work with both \"no2\" and \"nitrogen_dioxide\" passed.\n",
    "    if pollutant == \"no2\":\n",
    "        pollutant = \"nitrogen_dioxide\"\n",
    "        \n",
    "    params = {\n",
    "        'latitude': latitude,\n",
    "        'longitude': longitude,\n",
    "        'hourly': [pollutant],\n",
    "        'start_date': start_date,\n",
    "        'end_date': end_date,\n",
    "        'timezone': \"Europe/London\"\n",
    "    }\n",
    "    \n",
    "    # base endpoint\n",
    "    base_url = \"https://air-quality-api.open-meteo.com/v1/air-quality\"\n",
    "        \n",
    "    response = requests.get(base_url, params=params)\n",
    "\n",
    "    response_json = response.json()    \n",
    "    res_df = pd.DataFrame(response_json[\"hourly\"])       \n",
    "    \n",
    "    # convert dates\n",
    "    res_df[\"time\"] = pd.to_datetime(res_df[\"time\"])\n",
    "    \n",
    "    # resample to days\n",
    "    res_df = res_df.groupby(res_df['time'].dt.date).mean(numeric_only=True).reset_index()\n",
    "    \n",
    "    res_df[pollutant] = round(res_df[pollutant], 1)\n",
    "    \n",
    "    # rename columns\n",
    "    res_df = res_df.rename(columns={\n",
    "        \"time\": \"date\"\n",
    "    })\n",
    "    \n",
    "    res_df[\"city_name\"] = city_name\n",
    "    \n",
    "    # change columns order\n",
    "    res_df = res_df[\n",
    "        ['city_name', 'date', pollutant]\n",
    "    ]\n",
    "    \n",
    "#     # create 'unix' columns\n",
    "#     res_df[\"unix_time\"] = res_df[\"base_time\"].apply(convert_date_to_unix)\n",
    "\n",
    "    end_of_cell = time.time()\n",
    "    print(f\"Processed {pollutant.upper()} for {city_name} since {start_date} till {end_date}.\")\n",
    "    print(f\"Took {round(end_of_cell - start_of_cell, 2)} sec.\\n\")\n",
    "    \n",
    "    return res_df\n"
   ]
  },
  {
   "cell_type": "code",
   "execution_count": 38,
   "id": "65550fee-81d3-4323-977c-b3ec5516d1bc",
   "metadata": {
    "tags": []
   },
   "outputs": [
    {
     "name": "stdout",
     "output_type": "stream",
     "text": [
      "Processed PM2_5 for Milano since 2022-08-04 till 2023-01-01.\n",
      "Took 0.65 sec.\n",
      "\n"
     ]
    },
    {
     "data": {
      "text/html": [
       "<div>\n",
       "<style scoped>\n",
       "    .dataframe tbody tr th:only-of-type {\n",
       "        vertical-align: middle;\n",
       "    }\n",
       "\n",
       "    .dataframe tbody tr th {\n",
       "        vertical-align: top;\n",
       "    }\n",
       "\n",
       "    .dataframe thead th {\n",
       "        text-align: right;\n",
       "    }\n",
       "</style>\n",
       "<table border=\"1\" class=\"dataframe\">\n",
       "  <thead>\n",
       "    <tr style=\"text-align: right;\">\n",
       "      <th></th>\n",
       "      <th>city_name</th>\n",
       "      <th>date</th>\n",
       "      <th>pm2_5</th>\n",
       "    </tr>\n",
       "  </thead>\n",
       "  <tbody>\n",
       "    <tr>\n",
       "      <th>148</th>\n",
       "      <td>Milano</td>\n",
       "      <td>2022-12-30</td>\n",
       "      <td>60.1</td>\n",
       "    </tr>\n",
       "    <tr>\n",
       "      <th>149</th>\n",
       "      <td>Milano</td>\n",
       "      <td>2022-12-31</td>\n",
       "      <td>48.9</td>\n",
       "    </tr>\n",
       "    <tr>\n",
       "      <th>150</th>\n",
       "      <td>Milano</td>\n",
       "      <td>2023-01-01</td>\n",
       "      <td>50.9</td>\n",
       "    </tr>\n",
       "  </tbody>\n",
       "</table>\n",
       "</div>"
      ],
      "text/plain": [
       "    city_name        date  pm2_5\n",
       "148    Milano  2022-12-30   60.1\n",
       "149    Milano  2022-12-31   48.9\n",
       "150    Milano  2023-01-01   50.9"
      ]
     },
     "execution_count": 38,
     "metadata": {},
     "output_type": "execute_result"
    }
   ],
   "source": [
    "df1 = get_aqi_data_from_open_meteo(city_name=\"Milano\",\n",
    "                                   start_date=\"2022-08-04\", end_date=\"2023-01-01\")\n",
    "df1.tail(3)"
   ]
  },
  {
   "cell_type": "code",
   "execution_count": 39,
   "id": "b0fdb77f-25e7-45a3-be09-43a637819dcc",
   "metadata": {
    "tags": []
   },
   "outputs": [],
   "source": [
    "coords_test = (47.60086, -122.14839)"
   ]
  },
  {
   "cell_type": "code",
   "execution_count": 40,
   "id": "3b87e823-3465-4ffc-b741-bfff108565f2",
   "metadata": {},
   "outputs": [
    {
     "name": "stdout",
     "output_type": "stream",
     "text": [
      "Processed PM2_5 for somewhere near Seattle since 2023-01-10 till 2023-01-19.\n",
      "Took 0.29 sec.\n",
      "\n"
     ]
    },
    {
     "data": {
      "text/html": [
       "<div>\n",
       "<style scoped>\n",
       "    .dataframe tbody tr th:only-of-type {\n",
       "        vertical-align: middle;\n",
       "    }\n",
       "\n",
       "    .dataframe tbody tr th {\n",
       "        vertical-align: top;\n",
       "    }\n",
       "\n",
       "    .dataframe thead th {\n",
       "        text-align: right;\n",
       "    }\n",
       "</style>\n",
       "<table border=\"1\" class=\"dataframe\">\n",
       "  <thead>\n",
       "    <tr style=\"text-align: right;\">\n",
       "      <th></th>\n",
       "      <th>city_name</th>\n",
       "      <th>date</th>\n",
       "      <th>pm2_5</th>\n",
       "    </tr>\n",
       "  </thead>\n",
       "  <tbody>\n",
       "    <tr>\n",
       "      <th>7</th>\n",
       "      <td>somewhere near Seattle</td>\n",
       "      <td>2023-01-17</td>\n",
       "      <td>5.7</td>\n",
       "    </tr>\n",
       "    <tr>\n",
       "      <th>8</th>\n",
       "      <td>somewhere near Seattle</td>\n",
       "      <td>2023-01-18</td>\n",
       "      <td>3.7</td>\n",
       "    </tr>\n",
       "    <tr>\n",
       "      <th>9</th>\n",
       "      <td>somewhere near Seattle</td>\n",
       "      <td>2023-01-19</td>\n",
       "      <td>6.3</td>\n",
       "    </tr>\n",
       "  </tbody>\n",
       "</table>\n",
       "</div>"
      ],
      "text/plain": [
       "                city_name        date  pm2_5\n",
       "7  somewhere near Seattle  2023-01-17    5.7\n",
       "8  somewhere near Seattle  2023-01-18    3.7\n",
       "9  somewhere near Seattle  2023-01-19    6.3"
      ]
     },
     "execution_count": 40,
     "metadata": {},
     "output_type": "execute_result"
    }
   ],
   "source": [
    "df2 = get_aqi_data_from_open_meteo(city_name=\"somewhere near Seattle\", coordinates=coords_test,\n",
    "                                   start_date=\"2023-01-10\", end_date=\"2023-01-19\")\n",
    "df2.tail(3)"
   ]
  },
  {
   "cell_type": "markdown",
   "id": "9c968cbc-15a6-427f-a600-a6e09752f53e",
   "metadata": {
    "jp-MarkdownHeadingCollapsed": true,
    "tags": []
   },
   "source": [
    "# Filling the gap in Air Quality data (PM2.5)"
   ]
  },
  {
   "cell_type": "code",
   "execution_count": 41,
   "id": "a85a8683-081b-4d4f-9c19-bfc7e9d6145c",
   "metadata": {
    "tags": []
   },
   "outputs": [],
   "source": [
    "df_eu = pd.read_csv(\"data/backfill_pm2_5_eu.csv\")\n",
    "df_us = pd.read_csv(\"data/backfill_pm2_5_us.csv\")\n",
    "df_seattle = pd.read_csv(\"data/backfill_pm2_5_seattle.csv\")"
   ]
  },
  {
   "cell_type": "code",
   "execution_count": 42,
   "id": "635b52eb-51ee-4b00-b3a9-3570fd99b330",
   "metadata": {
    "tags": []
   },
   "outputs": [],
   "source": [
    "last_dates_eu = df_eu[[\"date\", \"city_name\"]].groupby(\"city_name\").max()\n",
    "last_dates_eu.date = last_dates_eu.date.astype(str)\n",
    "last_dates_eu = last_dates_eu.to_dict()[\"date\"]\n",
    "\n",
    "last_dates_us = df_us[[\"date\", \"city_name\"]].groupby(\"city_name\").max()\n",
    "last_dates_us.date = last_dates_us.date.astype(str)\n",
    "last_dates_us = last_dates_us.to_dict()[\"date\"]\n",
    "\n",
    "last_dates_seattle = df_seattle[[\"date\", \"city_name\"]].groupby(\"city_name\").max()\n",
    "last_dates_seattle.date = last_dates_seattle.date.astype(str)\n",
    "last_dates_seattle = last_dates_seattle.to_dict()[\"date\"]"
   ]
  },
  {
   "cell_type": "code",
   "execution_count": 43,
   "id": "44c2e98f-c5de-4b4d-b242-e74c07a7c528",
   "metadata": {
    "tags": []
   },
   "outputs": [
    {
     "data": {
      "text/plain": [
       "[47.60086, -122.1484]"
      ]
     },
     "execution_count": 43,
     "metadata": {},
     "output_type": "execute_result"
    }
   ],
   "source": [
    "target_cities[\"Seattle\"]['Seattle - Bellevue-SE 12th St']"
   ]
  },
  {
   "cell_type": "code",
   "execution_count": 44,
   "id": "ba7addda-12c2-4538-8968-b5a745a8f384",
   "metadata": {},
   "outputs": [
    {
     "data": {
      "text/plain": [
       "{'Amsterdam': '2023-04-11',\n",
       " 'Athina': '2023-04-11',\n",
       " 'Berlin': '2023-04-11',\n",
       " 'Gdansk': '2023-04-11',\n",
       " 'Kraków': '2023-04-11',\n",
       " 'London': '2023-04-11',\n",
       " 'Madrid': '2023-04-11',\n",
       " 'Marseille': '2023-04-11',\n",
       " 'Milano': '2023-04-11',\n",
       " 'München': '2023-04-11',\n",
       " 'Napoli': '2023-04-11',\n",
       " 'Paris': '2023-04-11',\n",
       " 'Sevilla': '2023-04-11',\n",
       " 'Stockholm': '2023-04-11',\n",
       " 'Tallinn': '2023-04-11',\n",
       " 'Varna': '2022-08-02',\n",
       " 'Wien': '2023-04-11'}"
      ]
     },
     "execution_count": 44,
     "metadata": {},
     "output_type": "execute_result"
    }
   ],
   "source": [
    "last_dates_eu"
   ]
  },
  {
   "cell_type": "code",
   "execution_count": 45,
   "id": "0bb8ea8f-2497-4c32-92bc-74b9f9885668",
   "metadata": {
    "tags": []
   },
   "outputs": [
    {
     "data": {
      "text/plain": [
       "'2023-04-13'"
      ]
     },
     "execution_count": 45,
     "metadata": {},
     "output_type": "execute_result"
    }
   ],
   "source": [
    "date_today = datetime.datetime.now().strftime(\"%Y-%m-%d\")\n",
    "date_today"
   ]
  },
  {
   "cell_type": "code",
   "execution_count": 46,
   "id": "403e9a25-90c2-4c68-a3ae-42fbedf12565",
   "metadata": {
    "scrolled": true,
    "tags": []
   },
   "outputs": [
    {
     "name": "stdout",
     "output_type": "stream",
     "text": [
      "Processed PM2_5 for Amsterdam since 2023-04-11 till 2023-04-13.\n",
      "Took 0.54 sec.\n",
      "\n",
      "Processed PM2_5 for Athina since 2023-04-11 till 2023-04-13.\n",
      "Took 1.3 sec.\n",
      "\n",
      "Processed PM2_5 for Berlin since 2023-04-11 till 2023-04-13.\n",
      "Took 0.54 sec.\n",
      "\n",
      "Processed PM2_5 for Gdansk since 2023-04-11 till 2023-04-13.\n",
      "Took 0.48 sec.\n",
      "\n",
      "Processed PM2_5 for Kraków since 2023-04-11 till 2023-04-13.\n",
      "Took 0.49 sec.\n",
      "\n",
      "Processed PM2_5 for London since 2023-04-11 till 2023-04-13.\n",
      "Took 0.72 sec.\n",
      "\n",
      "Processed PM2_5 for Madrid since 2023-04-11 till 2023-04-13.\n",
      "Took 0.74 sec.\n",
      "\n",
      "Processed PM2_5 for Marseille since 2023-04-11 till 2023-04-13.\n",
      "Took 0.52 sec.\n",
      "\n",
      "Processed PM2_5 for Milano since 2023-04-11 till 2023-04-13.\n",
      "Took 0.55 sec.\n",
      "\n",
      "Processed PM2_5 for München since 2023-04-11 till 2023-04-13.\n",
      "Took 0.48 sec.\n",
      "\n",
      "Processed PM2_5 for Napoli since 2023-04-11 till 2023-04-13.\n",
      "Took 0.48 sec.\n",
      "\n",
      "Processed PM2_5 for Paris since 2023-04-11 till 2023-04-13.\n",
      "Took 0.57 sec.\n",
      "\n",
      "Processed PM2_5 for Sevilla since 2023-04-11 till 2023-04-13.\n",
      "Took 0.47 sec.\n",
      "\n",
      "Processed PM2_5 for Stockholm since 2023-04-11 till 2023-04-13.\n",
      "Took 0.55 sec.\n",
      "\n",
      "Processed PM2_5 for Tallinn since 2023-04-11 till 2023-04-13.\n",
      "Took 0.55 sec.\n",
      "\n",
      "Processed PM2_5 for Varna since 2022-08-02 till 2023-04-13.\n",
      "Took 0.66 sec.\n",
      "\n",
      "Processed PM2_5 for Wien since 2023-04-11 till 2023-04-13.\n",
      "Took 0.5 sec.\n",
      "\n",
      "----------------------------------------------------------------\n",
      "Parsed new PM2.5 data for EU cities up to 2023-04-13.\n",
      "Took 10.14 sec.\n",
      "\n"
     ]
    }
   ],
   "source": [
    "start_of_cell = time.time()\n",
    "\n",
    "df_eu_update = pd.DataFrame()\n",
    "for city_name in last_dates_eu: \n",
    "    df_ = get_aqi_data_from_open_meteo(city_name=city_name,\n",
    "                                       start_date=last_dates_eu[city_name],\n",
    "                                       end_date=date_today)\n",
    "    df_eu_update = pd.concat([df_eu_update, df_]).reset_index(drop=True)\n",
    "    \n",
    "    \n",
    "end_of_cell = time.time()\n",
    "print(\"-\" * 64)\n",
    "print(f\"Parsed new PM2.5 data for EU cities up to {date_today}.\")\n",
    "print(f\"Took {round(end_of_cell - start_of_cell, 2)} sec.\\n\")"
   ]
  },
  {
   "cell_type": "code",
   "execution_count": 48,
   "id": "55444409-451c-4217-97c2-143863282fb9",
   "metadata": {
    "scrolled": true,
    "tags": []
   },
   "outputs": [
    {
     "name": "stdout",
     "output_type": "stream",
     "text": [
      "Processed PM2_5 for Albuquerque since 2022-12-31 till 2023-04-13.\n",
      "Took 0.56 sec.\n",
      "\n",
      "Processed PM2_5 for Atlanta since 2022-12-31 till 2023-04-13.\n",
      "Took 0.55 sec.\n",
      "\n",
      "Processed PM2_5 for Chicago since 2022-12-31 till 2023-04-13.\n",
      "Took 0.54 sec.\n",
      "\n",
      "Processed PM2_5 for Columbus since 2022-12-31 till 2023-04-13.\n",
      "Took 0.5 sec.\n",
      "\n",
      "Processed PM2_5 for Dallas since 2022-12-31 till 2023-04-13.\n",
      "Took 0.6 sec.\n",
      "\n",
      "Processed PM2_5 for Denver since 2022-12-31 till 2023-04-13.\n",
      "Took 0.52 sec.\n",
      "\n",
      "Processed PM2_5 for Houston since 2022-12-31 till 2023-04-13.\n",
      "Took 0.55 sec.\n",
      "\n",
      "Processed PM2_5 for Los Angeles since 2022-12-31 till 2023-04-13.\n",
      "Took 0.6 sec.\n",
      "\n",
      "Processed PM2_5 for New York since 2022-12-31 till 2023-04-13.\n",
      "Took 0.57 sec.\n",
      "\n",
      "Processed PM2_5 for Phoenix-Mesa since 2022-12-31 till 2023-04-13.\n",
      "Took 0.62 sec.\n",
      "\n",
      "Processed PM2_5 for Salt Lake City since 2022-12-31 till 2023-04-13.\n",
      "Took 0.5 sec.\n",
      "\n",
      "Processed PM2_5 for San Francisco since 2022-12-31 till 2023-04-13.\n",
      "Took 0.64 sec.\n",
      "\n",
      "Processed PM2_5 for Tampa since 2022-12-31 till 2023-04-13.\n",
      "Took 0.57 sec.\n",
      "\n",
      "----------------------------------------------------------------\n",
      "Parsed new PM2.5 data for US cities up to 2023-04-13.\n",
      "Took 7.32 sec.\n",
      "\n"
     ]
    }
   ],
   "source": [
    "start_of_cell = time.time()\n",
    "\n",
    "df_us_update = pd.DataFrame()\n",
    "for city_name in last_dates_us: \n",
    "    df_ = get_aqi_data_from_open_meteo(city_name=city_name,\n",
    "                                       start_date=last_dates_us[city_name],\n",
    "                                       end_date=date_today)\n",
    "    df_us_update = pd.concat([df_us_update, df_]).reset_index(drop=True)\n",
    "    \n",
    "    \n",
    "end_of_cell = time.time()\n",
    "print(\"-\" * 64)\n",
    "print(f\"Parsed new PM2.5 data for US cities up to {date_today}.\")\n",
    "print(f\"Took {round(end_of_cell - start_of_cell, 2)} sec.\\n\")"
   ]
  },
  {
   "cell_type": "code",
   "execution_count": 49,
   "id": "d989b096-6386-4a6a-a433-85348b8b2ed4",
   "metadata": {
    "tags": []
   },
   "outputs": [
    {
     "data": {
      "text/plain": [
       "'2023-04-03'"
      ]
     },
     "execution_count": 49,
     "metadata": {},
     "output_type": "execute_result"
    }
   ],
   "source": [
    "last_dates_seattle['Seattle - Bellevue-SE 12th St']"
   ]
  },
  {
   "cell_type": "code",
   "execution_count": 50,
   "id": "f4989941-0d78-4402-abf7-021c48f3ca62",
   "metadata": {
    "scrolled": true,
    "tags": []
   },
   "outputs": [
    {
     "name": "stdout",
     "output_type": "stream",
     "text": [
      "Processed PM2_5 for Seattle - Bellevue-SE 12th St since 2023-04-03 till 2023-04-13.\n",
      "Took 0.27 sec.\n",
      "\n",
      "Processed PM2_5 for Seattle - DARRINGTON - FIR ST (Darrington High School) since 2023-04-03 till 2023-04-13.\n",
      "Took 0.24 sec.\n",
      "\n",
      "Processed PM2_5 for Seattle - KENT - JAMES & CENTRAL since 2023-04-03 till 2023-04-13.\n",
      "Took 0.25 sec.\n",
      "\n",
      "Processed PM2_5 for Seattle - LAKE FOREST PARK TOWNE CENTER since 2023-04-03 till 2023-04-13.\n",
      "Took 0.26 sec.\n",
      "\n",
      "Processed PM2_5 for Seattle - MARYSVILLE - 7TH AVE (Marysville Junior High) since 2023-04-03 till 2023-04-13.\n",
      "Took 0.25 sec.\n",
      "\n",
      "Processed PM2_5 for Seattle - NORTH BEND - NORTH BEND WAY since 2023-04-03 till 2023-04-13.\n",
      "Took 0.25 sec.\n",
      "\n",
      "Processed PM2_5 for Seattle - SEATTLE - BEACON HILL since 2023-04-03 till 2023-04-13.\n",
      "Took 0.25 sec.\n",
      "\n",
      "Processed PM2_5 for Seattle - SEATTLE - DUWAMISH since 2023-04-03 till 2023-04-13.\n",
      "Took 0.26 sec.\n",
      "\n",
      "Processed PM2_5 for Seattle - SEATTLE - SOUTH PARK #2 since 2023-04-03 till 2023-04-13.\n",
      "Took 0.24 sec.\n",
      "\n",
      "Processed PM2_5 for Seattle - Seattle-10th & Weller since 2023-04-03 till 2023-04-13.\n",
      "Took 0.24 sec.\n",
      "\n",
      "Processed PM2_5 for Seattle - TACOMA - ALEXANDER AVE since 2023-04-02 till 2023-04-13.\n",
      "Took 0.26 sec.\n",
      "\n",
      "Processed PM2_5 for Seattle - TACOMA - L STREET since 2023-04-03 till 2023-04-13.\n",
      "Took 0.25 sec.\n",
      "\n",
      "Processed PM2_5 for Seattle - Tacoma-S 36th St since 2023-04-03 till 2023-04-13.\n",
      "Took 0.26 sec.\n",
      "\n",
      "Processed PM2_5 for Seattle - Tukwila Allentown since 2023-04-03 till 2023-04-13.\n",
      "Took 0.25 sec.\n",
      "\n",
      "Processed PM2_5 for Seattle - Tulalip-Totem Beach Rd since 2023-04-03 till 2023-04-13.\n",
      "Took 0.25 sec.\n",
      "\n",
      "----------------------------------------------------------------\n",
      "Parsed new PM2.5 data for Seattle and surrounding areas up to 2023-04-13.\n",
      "Took 3.79 sec.\n",
      "\n"
     ]
    }
   ],
   "source": [
    "start_of_cell = time.time()\n",
    "\n",
    "df_seattle_update = pd.DataFrame()\n",
    "for city_name in last_dates_seattle:\n",
    "    coordinates = target_cities[\"Seattle\"][city_name]\n",
    "    df_ = get_aqi_data_from_open_meteo(city_name=city_name,\n",
    "                                       coordinates=coordinates,\n",
    "                                       start_date=last_dates_seattle[city_name],\n",
    "                                       end_date=date_today)\n",
    "    df_seattle_update = pd.concat([df_seattle_update, df_]).reset_index(drop=True)\n",
    "    \n",
    "\n",
    "end_of_cell = time.time()\n",
    "print(\"-\" * 64)\n",
    "print(f\"Parsed new PM2.5 data for Seattle and surrounding areas up to {date_today}.\")\n",
    "print(f\"Took {round(end_of_cell - start_of_cell, 2)} sec.\\n\")"
   ]
  },
  {
   "cell_type": "code",
   "execution_count": 51,
   "id": "594fa313-9adb-4850-aef4-0bcba26e6b56",
   "metadata": {
    "tags": []
   },
   "outputs": [
    {
     "data": {
      "text/html": [
       "<div>\n",
       "<style scoped>\n",
       "    .dataframe tbody tr th:only-of-type {\n",
       "        vertical-align: middle;\n",
       "    }\n",
       "\n",
       "    .dataframe tbody tr th {\n",
       "        vertical-align: top;\n",
       "    }\n",
       "\n",
       "    .dataframe thead th {\n",
       "        text-align: right;\n",
       "    }\n",
       "</style>\n",
       "<table border=\"1\" class=\"dataframe\">\n",
       "  <thead>\n",
       "    <tr style=\"text-align: right;\">\n",
       "      <th></th>\n",
       "      <th>city_name</th>\n",
       "      <th>date</th>\n",
       "      <th>pm2_5</th>\n",
       "    </tr>\n",
       "  </thead>\n",
       "  <tbody>\n",
       "    <tr>\n",
       "      <th>0</th>\n",
       "      <td>Seattle - Bellevue-SE 12th St</td>\n",
       "      <td>2023-04-03</td>\n",
       "      <td>6.4</td>\n",
       "    </tr>\n",
       "    <tr>\n",
       "      <th>1</th>\n",
       "      <td>Seattle - Bellevue-SE 12th St</td>\n",
       "      <td>2023-04-04</td>\n",
       "      <td>9.9</td>\n",
       "    </tr>\n",
       "    <tr>\n",
       "      <th>2</th>\n",
       "      <td>Seattle - Bellevue-SE 12th St</td>\n",
       "      <td>2023-04-05</td>\n",
       "      <td>12.6</td>\n",
       "    </tr>\n",
       "    <tr>\n",
       "      <th>3</th>\n",
       "      <td>Seattle - Bellevue-SE 12th St</td>\n",
       "      <td>2023-04-06</td>\n",
       "      <td>12.2</td>\n",
       "    </tr>\n",
       "    <tr>\n",
       "      <th>4</th>\n",
       "      <td>Seattle - Bellevue-SE 12th St</td>\n",
       "      <td>2023-04-07</td>\n",
       "      <td>4.7</td>\n",
       "    </tr>\n",
       "    <tr>\n",
       "      <th>...</th>\n",
       "      <td>...</td>\n",
       "      <td>...</td>\n",
       "      <td>...</td>\n",
       "    </tr>\n",
       "    <tr>\n",
       "      <th>161</th>\n",
       "      <td>Seattle - Tulalip-Totem Beach Rd</td>\n",
       "      <td>2023-04-09</td>\n",
       "      <td>9.0</td>\n",
       "    </tr>\n",
       "    <tr>\n",
       "      <th>162</th>\n",
       "      <td>Seattle - Tulalip-Totem Beach Rd</td>\n",
       "      <td>2023-04-10</td>\n",
       "      <td>6.3</td>\n",
       "    </tr>\n",
       "    <tr>\n",
       "      <th>163</th>\n",
       "      <td>Seattle - Tulalip-Totem Beach Rd</td>\n",
       "      <td>2023-04-11</td>\n",
       "      <td>3.9</td>\n",
       "    </tr>\n",
       "    <tr>\n",
       "      <th>164</th>\n",
       "      <td>Seattle - Tulalip-Totem Beach Rd</td>\n",
       "      <td>2023-04-12</td>\n",
       "      <td>9.1</td>\n",
       "    </tr>\n",
       "    <tr>\n",
       "      <th>165</th>\n",
       "      <td>Seattle - Tulalip-Totem Beach Rd</td>\n",
       "      <td>2023-04-13</td>\n",
       "      <td>8.2</td>\n",
       "    </tr>\n",
       "  </tbody>\n",
       "</table>\n",
       "<p>166 rows × 3 columns</p>\n",
       "</div>"
      ],
      "text/plain": [
       "                            city_name        date  pm2_5\n",
       "0       Seattle - Bellevue-SE 12th St  2023-04-03    6.4\n",
       "1       Seattle - Bellevue-SE 12th St  2023-04-04    9.9\n",
       "2       Seattle - Bellevue-SE 12th St  2023-04-05   12.6\n",
       "3       Seattle - Bellevue-SE 12th St  2023-04-06   12.2\n",
       "4       Seattle - Bellevue-SE 12th St  2023-04-07    4.7\n",
       "..                                ...         ...    ...\n",
       "161  Seattle - Tulalip-Totem Beach Rd  2023-04-09    9.0\n",
       "162  Seattle - Tulalip-Totem Beach Rd  2023-04-10    6.3\n",
       "163  Seattle - Tulalip-Totem Beach Rd  2023-04-11    3.9\n",
       "164  Seattle - Tulalip-Totem Beach Rd  2023-04-12    9.1\n",
       "165  Seattle - Tulalip-Totem Beach Rd  2023-04-13    8.2\n",
       "\n",
       "[166 rows x 3 columns]"
      ]
     },
     "execution_count": 51,
     "metadata": {},
     "output_type": "execute_result"
    }
   ],
   "source": [
    "df_seattle_update"
   ]
  },
  {
   "cell_type": "code",
   "execution_count": 54,
   "id": "f10a086e-5e5b-4631-95a2-09e940303f69",
   "metadata": {
    "tags": []
   },
   "outputs": [],
   "source": [
    "df_air_quality = pd.concat([\n",
    "    df_eu, df_us, df_seattle, df_eu_update,\n",
    "    df_us_update, df_seattle_update\n",
    "]).reset_index(drop=True)"
   ]
  },
  {
   "cell_type": "code",
   "execution_count": 56,
   "id": "ff363a18-bb51-430b-b89f-214e92b72b6c",
   "metadata": {
    "tags": []
   },
   "outputs": [
    {
     "data": {
      "text/html": [
       "<div>\n",
       "<style scoped>\n",
       "    .dataframe tbody tr th:only-of-type {\n",
       "        vertical-align: middle;\n",
       "    }\n",
       "\n",
       "    .dataframe tbody tr th {\n",
       "        vertical-align: top;\n",
       "    }\n",
       "\n",
       "    .dataframe thead th {\n",
       "        text-align: right;\n",
       "    }\n",
       "</style>\n",
       "<table border=\"1\" class=\"dataframe\">\n",
       "  <thead>\n",
       "    <tr style=\"text-align: right;\">\n",
       "      <th></th>\n",
       "      <th>date</th>\n",
       "    </tr>\n",
       "    <tr>\n",
       "      <th>city_name</th>\n",
       "      <th></th>\n",
       "    </tr>\n",
       "  </thead>\n",
       "  <tbody>\n",
       "    <tr>\n",
       "      <th>Albuquerque</th>\n",
       "      <td>3753</td>\n",
       "    </tr>\n",
       "    <tr>\n",
       "      <th>Amsterdam</th>\n",
       "      <td>3756</td>\n",
       "    </tr>\n",
       "    <tr>\n",
       "      <th>Athina</th>\n",
       "      <td>3756</td>\n",
       "    </tr>\n",
       "    <tr>\n",
       "      <th>Atlanta</th>\n",
       "      <td>3750</td>\n",
       "    </tr>\n",
       "    <tr>\n",
       "      <th>Berlin</th>\n",
       "      <td>3756</td>\n",
       "    </tr>\n",
       "    <tr>\n",
       "      <th>Chicago</th>\n",
       "      <td>3754</td>\n",
       "    </tr>\n",
       "    <tr>\n",
       "      <th>Columbus</th>\n",
       "      <td>2595</td>\n",
       "    </tr>\n",
       "    <tr>\n",
       "      <th>Dallas</th>\n",
       "      <td>3751</td>\n",
       "    </tr>\n",
       "    <tr>\n",
       "      <th>Denver</th>\n",
       "      <td>3754</td>\n",
       "    </tr>\n",
       "    <tr>\n",
       "      <th>Gdansk</th>\n",
       "      <td>3756</td>\n",
       "    </tr>\n",
       "    <tr>\n",
       "      <th>Houston</th>\n",
       "      <td>3747</td>\n",
       "    </tr>\n",
       "    <tr>\n",
       "      <th>Kraków</th>\n",
       "      <td>3756</td>\n",
       "    </tr>\n",
       "    <tr>\n",
       "      <th>London</th>\n",
       "      <td>3756</td>\n",
       "    </tr>\n",
       "    <tr>\n",
       "      <th>Los Angeles</th>\n",
       "      <td>3544</td>\n",
       "    </tr>\n",
       "    <tr>\n",
       "      <th>Madrid</th>\n",
       "      <td>3756</td>\n",
       "    </tr>\n",
       "    <tr>\n",
       "      <th>Marseille</th>\n",
       "      <td>3755</td>\n",
       "    </tr>\n",
       "    <tr>\n",
       "      <th>Milano</th>\n",
       "      <td>3756</td>\n",
       "    </tr>\n",
       "    <tr>\n",
       "      <th>München</th>\n",
       "      <td>3756</td>\n",
       "    </tr>\n",
       "    <tr>\n",
       "      <th>Napoli</th>\n",
       "      <td>3756</td>\n",
       "    </tr>\n",
       "    <tr>\n",
       "      <th>New York</th>\n",
       "      <td>3756</td>\n",
       "    </tr>\n",
       "    <tr>\n",
       "      <th>Paris</th>\n",
       "      <td>3756</td>\n",
       "    </tr>\n",
       "    <tr>\n",
       "      <th>Phoenix-Mesa</th>\n",
       "      <td>3756</td>\n",
       "    </tr>\n",
       "    <tr>\n",
       "      <th>Salt Lake City</th>\n",
       "      <td>3755</td>\n",
       "    </tr>\n",
       "    <tr>\n",
       "      <th>San Francisco</th>\n",
       "      <td>3756</td>\n",
       "    </tr>\n",
       "    <tr>\n",
       "      <th>Seattle - Bellevue-SE 12th St</th>\n",
       "      <td>2183</td>\n",
       "    </tr>\n",
       "    <tr>\n",
       "      <th>Seattle - DARRINGTON - FIR ST (Darrington High School)</th>\n",
       "      <td>3625</td>\n",
       "    </tr>\n",
       "    <tr>\n",
       "      <th>Seattle - KENT - JAMES &amp; CENTRAL</th>\n",
       "      <td>3567</td>\n",
       "    </tr>\n",
       "    <tr>\n",
       "      <th>Seattle - LAKE FOREST PARK TOWNE CENTER</th>\n",
       "      <td>3010</td>\n",
       "    </tr>\n",
       "    <tr>\n",
       "      <th>Seattle - MARYSVILLE - 7TH AVE (Marysville Junior High)</th>\n",
       "      <td>3659</td>\n",
       "    </tr>\n",
       "    <tr>\n",
       "      <th>Seattle - NORTH BEND - NORTH BEND WAY</th>\n",
       "      <td>3716</td>\n",
       "    </tr>\n",
       "    <tr>\n",
       "      <th>Seattle - SEATTLE - BEACON HILL</th>\n",
       "      <td>3702</td>\n",
       "    </tr>\n",
       "    <tr>\n",
       "      <th>Seattle - SEATTLE - DUWAMISH</th>\n",
       "      <td>3450</td>\n",
       "    </tr>\n",
       "    <tr>\n",
       "      <th>Seattle - SEATTLE - SOUTH PARK #2</th>\n",
       "      <td>3588</td>\n",
       "    </tr>\n",
       "    <tr>\n",
       "      <th>Seattle - Seattle-10th &amp; Weller</th>\n",
       "      <td>3108</td>\n",
       "    </tr>\n",
       "    <tr>\n",
       "      <th>Seattle - TACOMA - ALEXANDER AVE</th>\n",
       "      <td>3581</td>\n",
       "    </tr>\n",
       "    <tr>\n",
       "      <th>Seattle - TACOMA - L STREET</th>\n",
       "      <td>3707</td>\n",
       "    </tr>\n",
       "    <tr>\n",
       "      <th>Seattle - Tacoma-S 36th St</th>\n",
       "      <td>2585</td>\n",
       "    </tr>\n",
       "    <tr>\n",
       "      <th>Seattle - Tukwila Allentown</th>\n",
       "      <td>2085</td>\n",
       "    </tr>\n",
       "    <tr>\n",
       "      <th>Seattle - Tulalip-Totem Beach Rd</th>\n",
       "      <td>1079</td>\n",
       "    </tr>\n",
       "    <tr>\n",
       "      <th>Sevilla</th>\n",
       "      <td>3756</td>\n",
       "    </tr>\n",
       "    <tr>\n",
       "      <th>Stockholm</th>\n",
       "      <td>3756</td>\n",
       "    </tr>\n",
       "    <tr>\n",
       "      <th>Tallinn</th>\n",
       "      <td>3756</td>\n",
       "    </tr>\n",
       "    <tr>\n",
       "      <th>Tampa</th>\n",
       "      <td>3718</td>\n",
       "    </tr>\n",
       "    <tr>\n",
       "      <th>Varna</th>\n",
       "      <td>3756</td>\n",
       "    </tr>\n",
       "    <tr>\n",
       "      <th>Wien</th>\n",
       "      <td>3756</td>\n",
       "    </tr>\n",
       "  </tbody>\n",
       "</table>\n",
       "</div>"
      ],
      "text/plain": [
       "                                                    date\n",
       "city_name                                               \n",
       "Albuquerque                                         3753\n",
       "Amsterdam                                           3756\n",
       "Athina                                              3756\n",
       "Atlanta                                             3750\n",
       "Berlin                                              3756\n",
       "Chicago                                             3754\n",
       "Columbus                                            2595\n",
       "Dallas                                              3751\n",
       "Denver                                              3754\n",
       "Gdansk                                              3756\n",
       "Houston                                             3747\n",
       "Kraków                                              3756\n",
       "London                                              3756\n",
       "Los Angeles                                         3544\n",
       "Madrid                                              3756\n",
       "Marseille                                           3755\n",
       "Milano                                              3756\n",
       "München                                             3756\n",
       "Napoli                                              3756\n",
       "New York                                            3756\n",
       "Paris                                               3756\n",
       "Phoenix-Mesa                                        3756\n",
       "Salt Lake City                                      3755\n",
       "San Francisco                                       3756\n",
       "Seattle - Bellevue-SE 12th St                       2183\n",
       "Seattle - DARRINGTON - FIR ST (Darrington High ...  3625\n",
       "Seattle - KENT - JAMES & CENTRAL                    3567\n",
       "Seattle - LAKE FOREST PARK TOWNE CENTER             3010\n",
       "Seattle - MARYSVILLE - 7TH AVE (Marysville Juni...  3659\n",
       "Seattle - NORTH BEND - NORTH BEND WAY               3716\n",
       "Seattle - SEATTLE - BEACON HILL                     3702\n",
       "Seattle - SEATTLE - DUWAMISH                        3450\n",
       "Seattle - SEATTLE - SOUTH PARK #2                   3588\n",
       "Seattle - Seattle-10th & Weller                     3108\n",
       "Seattle - TACOMA - ALEXANDER AVE                    3581\n",
       "Seattle - TACOMA - L STREET                         3707\n",
       "Seattle - Tacoma-S 36th St                          2585\n",
       "Seattle - Tukwila Allentown                         2085\n",
       "Seattle - Tulalip-Totem Beach Rd                    1079\n",
       "Sevilla                                             3756\n",
       "Stockholm                                           3756\n",
       "Tallinn                                             3756\n",
       "Tampa                                               3718\n",
       "Varna                                               3756\n",
       "Wien                                                3756"
      ]
     },
     "execution_count": 56,
     "metadata": {},
     "output_type": "execute_result"
    }
   ],
   "source": [
    "# how many observations (days) we have per one location\n",
    "df_air_quality[['city_name', 'date']].groupby('city_name').count()"
   ]
  },
  {
   "cell_type": "code",
   "execution_count": null,
   "id": "fb10e6bb-1cea-47b7-8e42-7da8203badb0",
   "metadata": {},
   "outputs": [],
   "source": []
  }
 ],
 "metadata": {
  "kernelspec": {
   "display_name": "Python 3 (ipykernel)",
   "language": "python",
   "name": "python3"
  },
  "language_info": {
   "codemirror_mode": {
    "name": "ipython",
    "version": 3
   },
   "file_extension": ".py",
   "mimetype": "text/x-python",
   "name": "python",
   "nbconvert_exporter": "python",
   "pygments_lexer": "ipython3",
   "version": "3.8.16"
  }
 },
 "nbformat": 4,
 "nbformat_minor": 5
}
