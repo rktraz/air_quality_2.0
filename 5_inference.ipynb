{
 "cells": [
  {
   "cell_type": "code",
   "execution_count": 18,
   "id": "1751a61a-11fa-4c77-929c-d2e9eba9e0b8",
   "metadata": {
    "tags": []
   },
   "outputs": [],
   "source": [
    "!pip install streamlit-folium --q"
   ]
  },
  {
   "cell_type": "code",
   "execution_count": 25,
   "id": "f836b950-7f83-4282-b642-ecc2591607c1",
   "metadata": {
    "tags": []
   },
   "outputs": [],
   "source": [
    "!python3 -m streamlit run streamlit_app.py"
   ]
  },
  {
   "cell_type": "code",
   "execution_count": null,
   "id": "b333bd0c-ac82-4a7f-a65b-fb2786ad45d7",
   "metadata": {},
   "outputs": [],
   "source": []
  }
 ],
 "metadata": {
  "kernelspec": {
   "display_name": "Python 3 (ipykernel)",
   "language": "python",
   "name": "python3"
  },
  "language_info": {
   "codemirror_mode": {
    "name": "ipython",
    "version": 3
   },
   "file_extension": ".py",
   "mimetype": "text/x-python",
   "name": "python",
   "nbconvert_exporter": "python",
   "pygments_lexer": "ipython3",
   "version": "3.8.16"
  }
 },
 "nbformat": 4,
 "nbformat_minor": 5
}
