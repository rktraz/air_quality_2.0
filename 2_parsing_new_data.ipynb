{
 "cells": [
  {
   "cell_type": "code",
   "execution_count": 1,
   "id": "c38cfb72-fab8-429b-a52d-a9ee0d8568c8",
   "metadata": {
    "tags": []
   },
   "outputs": [],
   "source": [
    "import os\n",
    "import datetime\n",
    "import time\n",
    "import requests\n",
    "import pandas as pd\n",
    "import json\n",
    "import ast\n",
    "\n",
    "from geopy.geocoders import Nominatim"
   ]
  },
  {
   "cell_type": "code",
   "execution_count": 2,
   "id": "f01ee807-4c78-43eb-b2d1-22a1bdd669b8",
   "metadata": {
    "tags": []
   },
   "outputs": [],
   "source": [
    "def convert_date_to_unix(x):\n",
    "    \"\"\"\n",
    "    Convert datetime to unix time in milliseconds.\n",
    "    \"\"\"\n",
    "    dt_obj = datetime.datetime.strptime(str(x), '%Y-%m-%d %H:%M:%S')\n",
    "    dt_obj = int(dt_obj.timestamp() * 1000)\n",
    "    return dt_obj"
   ]
  },
  {
   "cell_type": "code",
   "execution_count": 3,
   "id": "095b2135-ab96-4fdf-a690-a8485fd51cef",
   "metadata": {
    "tags": []
   },
   "outputs": [],
   "source": [
    "def get_city_coordinates(city_name: str):\n",
    "    \"\"\"\n",
    "    Takes city name and returns its latitude and longitude (rounded to 2 digits after dot).\n",
    "    \"\"\" \n",
    "    # Initialize Nominatim API (for getting lat and long of the city)\n",
    "    geolocator = Nominatim(user_agent=\"MyApp\")\n",
    "    city = geolocator.geocode(city_name)\n",
    "\n",
    "    latitude = round(city.latitude, 2)\n",
    "    longitude = round(city.longitude, 2)\n",
    "    \n",
    "    return latitude, longitude"
   ]
  },
  {
   "cell_type": "markdown",
   "id": "272d19a6-5636-461a-9483-bdeae67e56df",
   "metadata": {
    "tags": []
   },
   "source": [
    "# Representing the Target cities "
   ]
  },
  {
   "cell_type": "code",
   "execution_count": 39,
   "id": "50d04cc5-6788-4a4c-9f87-c2e00b5fce49",
   "metadata": {
    "tags": []
   },
   "outputs": [],
   "source": [
    "with open('target_cities.json') as json_file:\n",
    "    target_cities = json.load(json_file)"
   ]
  },
  {
   "cell_type": "code",
   "execution_count": 40,
   "id": "2cb90572-d477-42dd-993f-f50ff326aaaa",
   "metadata": {
    "tags": []
   },
   "outputs": [
    {
     "name": "stdout",
     "output_type": "stream",
     "text": [
      "Seattle\n",
      "15\n",
      "EU\n",
      "17\n",
      "US\n",
      "13\n"
     ]
    }
   ],
   "source": [
    "for i in target_cities:\n",
    "    print(i)\n",
    "    print(len(target_cities[i]))"
   ]
  },
  {
   "cell_type": "code",
   "execution_count": 41,
   "id": "c4716d04-7c60-4303-8f64-835e927185fa",
   "metadata": {
    "scrolled": true,
    "tags": []
   },
   "outputs": [
    {
     "name": "stdout",
     "output_type": "stream",
     "text": [
      "{'EU': {'Amsterdam': [52.37, 4.89],\n",
      "        'Athina': [37.98, 23.73],\n",
      "        'Berlin': [52.52, 13.39],\n",
      "        'Gdansk': [54.37, 18.61],\n",
      "        'Kraków': [50.06, 19.94],\n",
      "        'London': [51.51, -0.13],\n",
      "        'Madrid': [40.42, -3.7],\n",
      "        'Marseille': [43.3, 5.37],\n",
      "        'Milano': [45.46, 9.19],\n",
      "        'München': [48.14, 11.58],\n",
      "        'Napoli': [40.84, 14.25],\n",
      "        'Paris': [48.85, 2.35],\n",
      "        'Sevilla': [37.39, -6.0],\n",
      "        'Stockholm': [59.33, 18.07],\n",
      "        'Tallinn': [59.44, 24.75],\n",
      "        'Varna': [43.21, 27.92],\n",
      "        'Wien': [48.21, 16.37]},\n",
      " 'Seattle': {'Bellevue-SE 12th St': [47.60086, -122.1484],\n",
      "             'DARRINGTON - FIR ST (Darrington High School)': [48.2469,\n",
      "                                                              -121.6031],\n",
      "             'KENT - JAMES & CENTRAL': [47.38611, -122.23028],\n",
      "             'LAKE FOREST PARK TOWNE CENTER': [47.755, -122.2806],\n",
      "             'MARYSVILLE - 7TH AVE (Marysville Junior High)': [48.05432,\n",
      "                                                               -122.17153],\n",
      "             'NORTH BEND - NORTH BEND WAY': [47.49022, -121.77278],\n",
      "             'SEATTLE - BEACON HILL': [47.56824, -122.30863],\n",
      "             'SEATTLE - DUWAMISH': [47.55975, -122.33827],\n",
      "             'SEATTLE - SOUTH PARK #2': [47.53091, -122.3208],\n",
      "             'Seattle-10th & Weller': [47.59722, -122.31972],\n",
      "             'TACOMA - ALEXANDER AVE': [47.2656, -122.3858],\n",
      "             'TACOMA - L STREET': [47.1864, -122.4517],\n",
      "             'Tacoma-S 36th St': [47.22634, -122.46256],\n",
      "             'Tukwila Allentown': [47.49854, -122.27839],\n",
      "             'Tulalip-Totem Beach Rd': [48.06534, -122.28519]},\n",
      " 'US': {'Albuquerque': [35.08, -106.65],\n",
      "        'Atlanta': [33.75, -84.39],\n",
      "        'Chicago': [41.88, -87.62],\n",
      "        'Columbus': [39.96, -83.0],\n",
      "        'Dallas': [32.78, -96.8],\n",
      "        'Denver': [39.74, -104.98],\n",
      "        'Houston': [29.76, -95.37],\n",
      "        'Los Angeles': [34.05, -118.24],\n",
      "        'New York': [40.71, -74.01],\n",
      "        'Phoenix-Mesa': [33.66, -112.04],\n",
      "        'Salt Lake City': [40.76, -111.89],\n",
      "        'San Francisco': [37.78, -122.42],\n",
      "        'Tampa': [27.95, -82.46]}}\n"
     ]
    }
   ],
   "source": [
    "from pprint import pprint\n",
    "\n",
    "pprint(target_cities)"
   ]
  },
  {
   "cell_type": "code",
   "execution_count": 7,
   "id": "65c47d7e-4647-40ae-aee5-f07fa52d3c1a",
   "metadata": {
    "tags": []
   },
   "outputs": [],
   "source": [
    "# with open(\"target_cities.json\", \"w\") as json_file:\n",
    "#     json.dump(target_cities, json_file)"
   ]
  },
  {
   "cell_type": "markdown",
   "id": "8438ef12-e071-4a98-88ff-40dec3bd78fe",
   "metadata": {
    "jp-MarkdownHeadingCollapsed": true,
    "tags": []
   },
   "source": [
    "### ALL target cities on the one map"
   ]
  },
  {
   "cell_type": "code",
   "execution_count": 139,
   "id": "abc2a63f-73e6-4263-8931-ef4f6ab23cdc",
   "metadata": {},
   "outputs": [],
   "source": [
    "# Create a folium map centered on the first location in the list\n",
    "map = folium.Map(location=[42.57, -44.092], zoom_start=3)\n",
    "\n",
    "for city in target_cities[\"EU\"]:\n",
    "    latitude, longitude = get_city_coordinates(city)\n",
    "    folium.Marker(location=[latitude, longitude]).add_to(map)\n",
    "    \n",
    "for city in target_cities[\"US\"]:\n",
    "    latitude, longitude = get_city_coordinates(city)\n",
    "    folium.Marker(location=[latitude, longitude]).add_to(map)\n",
    "\n",
    "for city in target_cities[\"Seattle\"]:\n",
    "    latitude, longitude = target_cities[\"Seattle\"][city]\n",
    "    folium.Marker(location=[latitude, longitude]).add_to(map)\n",
    "\n",
    "# Save the map to an HTML file\n",
    "map.save(\"map_all_target_cities.html\")"
   ]
  },
  {
   "cell_type": "markdown",
   "id": "e0f22dd6-4049-43a2-bd50-772ade3a09f1",
   "metadata": {
    "jp-MarkdownHeadingCollapsed": true,
    "tags": []
   },
   "source": [
    "# Air Quality [Open Meteo](https://open-meteo.com/en/docs/air-quality-api)"
   ]
  },
  {
   "cell_type": "markdown",
   "id": "8131d01f-0422-404e-bad6-aaa1c6d6e8d3",
   "metadata": {},
   "source": [
    "### I will be using this functionality to fill gaps / parse recent data for all my target cities (locations).\n",
    "\n",
    "#### Note that Open Meteo gives data from `2022-08-04` till `(today + 6 days)` time period."
   ]
  },
  {
   "cell_type": "code",
   "execution_count": 8,
   "id": "31fafb7d-8217-481a-a126-1385e8ddd64c",
   "metadata": {
    "tags": []
   },
   "outputs": [],
   "source": [
    "def get_aqi_data_from_open_meteo(city_name: str,\n",
    "                                 start_date: str,\n",
    "                                 end_date: str,\n",
    "                                 coordinates: list = None,\n",
    "                                 pollutant: str = \"pm2_5\"):\n",
    "    \"\"\"\n",
    "    Takes [city name OR coordinates] and returns pandas DataFrame with AQI data.\n",
    "    \n",
    "    Examples of arguments:\n",
    "        ...\n",
    "        coordinates=(47.755, -122.2806),\n",
    "        start_date=\"2023-01-01\",\n",
    "        pollutant=\"no2\"\n",
    "        ...\n",
    "    \"\"\"\n",
    "    start_of_cell = time.time()\n",
    "    \n",
    "    if coordinates:\n",
    "        latitude, longitude = coordinates\n",
    "    else:\n",
    "        latitude, longitude = get_city_coordinates(city_name=city_name)\n",
    "    \n",
    "    pollutant = pollutant.lower()\n",
    "    if pollutant == \"pm2.5\":\n",
    "        pollutant = \"pm2_5\"\n",
    "    \n",
    "    # make it work with both \"no2\" and \"nitrogen_dioxide\" passed.\n",
    "    if pollutant == \"no2\":\n",
    "        pollutant = \"nitrogen_dioxide\"\n",
    "        \n",
    "    params = {\n",
    "        'latitude': latitude,\n",
    "        'longitude': longitude,\n",
    "        'hourly': [pollutant],\n",
    "        'start_date': start_date,\n",
    "        'end_date': end_date,\n",
    "        'timezone': \"Europe/London\"\n",
    "    }\n",
    "    \n",
    "    # base endpoint\n",
    "    base_url = \"https://air-quality-api.open-meteo.com/v1/air-quality\"\n",
    "        \n",
    "    response = requests.get(base_url, params=params)\n",
    "\n",
    "    response_json = response.json()    \n",
    "    res_df = pd.DataFrame(response_json[\"hourly\"])       \n",
    "    \n",
    "    # convert dates\n",
    "    res_df[\"time\"] = pd.to_datetime(res_df[\"time\"])\n",
    "    \n",
    "    # resample to days\n",
    "    res_df = res_df.groupby(res_df['time'].dt.date).mean(numeric_only=True).reset_index()\n",
    "    \n",
    "    res_df[pollutant] = round(res_df[pollutant], 1)\n",
    "    \n",
    "    # rename columns\n",
    "    res_df = res_df.rename(columns={\n",
    "        \"time\": \"date\"\n",
    "    })\n",
    "    \n",
    "    res_df[\"city_name\"] = city_name\n",
    "    \n",
    "    # change columns order\n",
    "    res_df = res_df[\n",
    "        ['city_name', 'date', pollutant]\n",
    "    ]\n",
    "    \n",
    "#     # create 'unix' columns\n",
    "#     res_df[\"unix_time\"] = res_df[\"base_time\"].apply(convert_date_to_unix)\n",
    "\n",
    "    end_of_cell = time.time()\n",
    "    print(f\"Processed {pollutant.upper()} for {city_name} since {start_date} till {end_date}.\")\n",
    "    print(f\"Took {round(end_of_cell - start_of_cell, 2)} sec.\\n\")\n",
    "    \n",
    "    return res_df\n"
   ]
  },
  {
   "cell_type": "code",
   "execution_count": 9,
   "id": "65550fee-81d3-4323-977c-b3ec5516d1bc",
   "metadata": {
    "tags": []
   },
   "outputs": [
    {
     "name": "stdout",
     "output_type": "stream",
     "text": [
      "Processed PM2_5 for Milano since 2022-08-04 till 2023-01-01.\n",
      "Took 0.8 sec.\n",
      "\n"
     ]
    },
    {
     "data": {
      "text/html": [
       "<div>\n",
       "<style scoped>\n",
       "    .dataframe tbody tr th:only-of-type {\n",
       "        vertical-align: middle;\n",
       "    }\n",
       "\n",
       "    .dataframe tbody tr th {\n",
       "        vertical-align: top;\n",
       "    }\n",
       "\n",
       "    .dataframe thead th {\n",
       "        text-align: right;\n",
       "    }\n",
       "</style>\n",
       "<table border=\"1\" class=\"dataframe\">\n",
       "  <thead>\n",
       "    <tr style=\"text-align: right;\">\n",
       "      <th></th>\n",
       "      <th>city_name</th>\n",
       "      <th>date</th>\n",
       "      <th>pm2_5</th>\n",
       "    </tr>\n",
       "  </thead>\n",
       "  <tbody>\n",
       "    <tr>\n",
       "      <th>148</th>\n",
       "      <td>Milano</td>\n",
       "      <td>2022-12-30</td>\n",
       "      <td>60.1</td>\n",
       "    </tr>\n",
       "    <tr>\n",
       "      <th>149</th>\n",
       "      <td>Milano</td>\n",
       "      <td>2022-12-31</td>\n",
       "      <td>48.9</td>\n",
       "    </tr>\n",
       "    <tr>\n",
       "      <th>150</th>\n",
       "      <td>Milano</td>\n",
       "      <td>2023-01-01</td>\n",
       "      <td>50.9</td>\n",
       "    </tr>\n",
       "  </tbody>\n",
       "</table>\n",
       "</div>"
      ],
      "text/plain": [
       "    city_name        date  pm2_5\n",
       "148    Milano  2022-12-30   60.1\n",
       "149    Milano  2022-12-31   48.9\n",
       "150    Milano  2023-01-01   50.9"
      ]
     },
     "execution_count": 9,
     "metadata": {},
     "output_type": "execute_result"
    }
   ],
   "source": [
    "df1 = get_aqi_data_from_open_meteo(city_name=\"Milano\",\n",
    "                                   start_date=\"2022-08-04\", end_date=\"2023-01-01\")\n",
    "df1.tail(3)"
   ]
  },
  {
   "cell_type": "code",
   "execution_count": 10,
   "id": "b0fdb77f-25e7-45a3-be09-43a637819dcc",
   "metadata": {
    "tags": []
   },
   "outputs": [],
   "source": [
    "coords_test = (47.60086, -122.14839)"
   ]
  },
  {
   "cell_type": "code",
   "execution_count": 11,
   "id": "3b87e823-3465-4ffc-b741-bfff108565f2",
   "metadata": {},
   "outputs": [
    {
     "name": "stdout",
     "output_type": "stream",
     "text": [
      "Processed PM2_5 for somewhere near Seattle since 2023-01-10 till 2023-01-19.\n",
      "Took 0.23 sec.\n",
      "\n"
     ]
    },
    {
     "data": {
      "text/html": [
       "<div>\n",
       "<style scoped>\n",
       "    .dataframe tbody tr th:only-of-type {\n",
       "        vertical-align: middle;\n",
       "    }\n",
       "\n",
       "    .dataframe tbody tr th {\n",
       "        vertical-align: top;\n",
       "    }\n",
       "\n",
       "    .dataframe thead th {\n",
       "        text-align: right;\n",
       "    }\n",
       "</style>\n",
       "<table border=\"1\" class=\"dataframe\">\n",
       "  <thead>\n",
       "    <tr style=\"text-align: right;\">\n",
       "      <th></th>\n",
       "      <th>city_name</th>\n",
       "      <th>date</th>\n",
       "      <th>pm2_5</th>\n",
       "    </tr>\n",
       "  </thead>\n",
       "  <tbody>\n",
       "    <tr>\n",
       "      <th>7</th>\n",
       "      <td>somewhere near Seattle</td>\n",
       "      <td>2023-01-17</td>\n",
       "      <td>5.7</td>\n",
       "    </tr>\n",
       "    <tr>\n",
       "      <th>8</th>\n",
       "      <td>somewhere near Seattle</td>\n",
       "      <td>2023-01-18</td>\n",
       "      <td>3.7</td>\n",
       "    </tr>\n",
       "    <tr>\n",
       "      <th>9</th>\n",
       "      <td>somewhere near Seattle</td>\n",
       "      <td>2023-01-19</td>\n",
       "      <td>6.3</td>\n",
       "    </tr>\n",
       "  </tbody>\n",
       "</table>\n",
       "</div>"
      ],
      "text/plain": [
       "                city_name        date  pm2_5\n",
       "7  somewhere near Seattle  2023-01-17    5.7\n",
       "8  somewhere near Seattle  2023-01-18    3.7\n",
       "9  somewhere near Seattle  2023-01-19    6.3"
      ]
     },
     "execution_count": 11,
     "metadata": {},
     "output_type": "execute_result"
    }
   ],
   "source": [
    "df2 = get_aqi_data_from_open_meteo(city_name=\"somewhere near Seattle\", coordinates=coords_test,\n",
    "                                   start_date=\"2023-01-10\", end_date=\"2023-01-19\")\n",
    "df2.tail(3)"
   ]
  },
  {
   "cell_type": "markdown",
   "id": "9c968cbc-15a6-427f-a600-a6e09752f53e",
   "metadata": {
    "tags": []
   },
   "source": [
    "# Filling the gap in Air Quality data (PM2.5)"
   ]
  },
  {
   "cell_type": "code",
   "execution_count": 43,
   "id": "10459c94-e39a-4c88-b335-b139f0890d7a",
   "metadata": {
    "tags": []
   },
   "outputs": [],
   "source": [
    "today = datetime.date.today()"
   ]
  },
  {
   "cell_type": "code",
   "execution_count": 44,
   "id": "a85a8683-081b-4d4f-9c19-bfc7e9d6145c",
   "metadata": {
    "tags": []
   },
   "outputs": [],
   "source": [
    "df_eu = pd.read_csv(\"data/backfill_pm2_5_eu.csv\")\n",
    "df_us = pd.read_csv(\"data/backfill_pm2_5_us.csv\")\n",
    "df_seattle = pd.read_csv(\"data/backfill_pm2_5_seattle.csv\")"
   ]
  },
  {
   "cell_type": "code",
   "execution_count": 45,
   "id": "665fe9c2-e3f6-496e-b861-5959d1e63abb",
   "metadata": {
    "tags": []
   },
   "outputs": [],
   "source": [
    "df_aq_backfill = pd.concat([df_eu, df_us, df_seattle]).reset_index(drop=True)"
   ]
  },
  {
   "cell_type": "code",
   "execution_count": 46,
   "id": "4a624215-e82c-4821-8fd5-dda678c9af58",
   "metadata": {
    "tags": []
   },
   "outputs": [],
   "source": [
    "last_dates_aq = df_aq_backfill[[\"date\", \"city_name\"]].groupby(\"city_name\").max()\n",
    "last_dates_aq.date = last_dates_aq.date.astype(str)\n",
    "last_dates_aq = last_dates_aq.to_dict()[\"date\"]"
   ]
  },
  {
   "cell_type": "code",
   "execution_count": null,
   "id": "5a2fc9d7-afa6-4a94-bcd7-0d8fee2b6faa",
   "metadata": {},
   "outputs": [],
   "source": [
    "for continent in target_cities:\n",
    "    for city, coords in target_cities[continent].items():\n",
    "        print(city, coords)"
   ]
  },
  {
   "cell_type": "code",
   "execution_count": 50,
   "id": "fe0f29db-519d-4d89-b308-943960cbe1ba",
   "metadata": {
    "scrolled": true,
    "tags": []
   },
   "outputs": [
    {
     "name": "stdout",
     "output_type": "stream",
     "text": [
      "Processed PM2_5 for NORTH BEND - NORTH BEND WAY since 2023-04-03 till 2023-04-17.\n",
      "Took 0.14 sec.\n",
      "\n",
      "Processed PM2_5 for LAKE FOREST PARK TOWNE CENTER since 2023-04-03 till 2023-04-17.\n",
      "Took 0.14 sec.\n",
      "\n",
      "Processed PM2_5 for SEATTLE - DUWAMISH since 2023-04-03 till 2023-04-17.\n",
      "Took 0.14 sec.\n",
      "\n",
      "Processed PM2_5 for SEATTLE - BEACON HILL since 2023-04-03 till 2023-04-17.\n",
      "Took 0.14 sec.\n",
      "\n",
      "Processed PM2_5 for SEATTLE - SOUTH PARK #2 since 2023-04-03 till 2023-04-17.\n",
      "Took 0.15 sec.\n",
      "\n",
      "Processed PM2_5 for KENT - JAMES & CENTRAL since 2023-04-03 till 2023-04-17.\n",
      "Took 0.14 sec.\n",
      "\n",
      "Processed PM2_5 for TACOMA - L STREET since 2023-04-03 till 2023-04-17.\n",
      "Took 0.15 sec.\n",
      "\n",
      "Processed PM2_5 for TACOMA - ALEXANDER AVE since 2023-04-02 till 2023-04-17.\n",
      "Took 0.14 sec.\n",
      "\n",
      "Processed PM2_5 for DARRINGTON - FIR ST (Darrington High School) since 2023-04-03 till 2023-04-17.\n",
      "Took 0.14 sec.\n",
      "\n",
      "Processed PM2_5 for MARYSVILLE - 7TH AVE (Marysville Junior High) since 2023-04-03 till 2023-04-17.\n",
      "Took 0.14 sec.\n",
      "\n",
      "Processed PM2_5 for Seattle-10th & Weller since 2023-04-03 till 2023-04-17.\n",
      "Took 0.14 sec.\n",
      "\n",
      "Processed PM2_5 for Bellevue-SE 12th St since 2023-04-03 till 2023-04-17.\n",
      "Took 0.14 sec.\n",
      "\n",
      "Processed PM2_5 for Tacoma-S 36th St since 2023-04-03 till 2023-04-17.\n",
      "Took 0.14 sec.\n",
      "\n",
      "Processed PM2_5 for Tukwila Allentown since 2023-04-03 till 2023-04-17.\n",
      "Took 0.14 sec.\n",
      "\n",
      "Processed PM2_5 for Tulalip-Totem Beach Rd since 2023-04-03 till 2023-04-17.\n",
      "Took 0.14 sec.\n",
      "\n",
      "Processed PM2_5 for Amsterdam since 2023-04-11 till 2023-04-17.\n",
      "Took 0.14 sec.\n",
      "\n",
      "Processed PM2_5 for Athina since 2023-04-11 till 2023-04-17.\n",
      "Took 0.14 sec.\n",
      "\n",
      "Processed PM2_5 for Berlin since 2023-04-11 till 2023-04-17.\n",
      "Took 0.14 sec.\n",
      "\n",
      "Processed PM2_5 for Gdansk since 2023-04-11 till 2023-04-17.\n",
      "Took 0.14 sec.\n",
      "\n",
      "Processed PM2_5 for Kraków since 2023-04-11 till 2023-04-17.\n",
      "Took 0.14 sec.\n",
      "\n",
      "Processed PM2_5 for London since 2023-04-11 till 2023-04-17.\n",
      "Took 0.14 sec.\n",
      "\n",
      "Processed PM2_5 for Madrid since 2023-04-11 till 2023-04-17.\n",
      "Took 0.14 sec.\n",
      "\n",
      "Processed PM2_5 for Marseille since 2023-04-11 till 2023-04-17.\n",
      "Took 0.14 sec.\n",
      "\n",
      "Processed PM2_5 for Milano since 2023-04-11 till 2023-04-17.\n",
      "Took 0.14 sec.\n",
      "\n",
      "Processed PM2_5 for München since 2023-04-11 till 2023-04-17.\n",
      "Took 0.14 sec.\n",
      "\n",
      "Processed PM2_5 for Napoli since 2023-04-11 till 2023-04-17.\n",
      "Took 0.14 sec.\n",
      "\n",
      "Processed PM2_5 for Paris since 2023-04-11 till 2023-04-17.\n",
      "Took 0.14 sec.\n",
      "\n",
      "Processed PM2_5 for Sevilla since 2023-04-11 till 2023-04-17.\n",
      "Took 0.14 sec.\n",
      "\n",
      "Processed PM2_5 for Stockholm since 2023-04-11 till 2023-04-17.\n",
      "Took 0.14 sec.\n",
      "\n",
      "Processed PM2_5 for Tallinn since 2023-04-11 till 2023-04-17.\n",
      "Took 0.14 sec.\n",
      "\n",
      "Processed PM2_5 for Varna since 2022-08-02 till 2023-04-17.\n",
      "Took 0.38 sec.\n",
      "\n",
      "Processed PM2_5 for Wien since 2023-04-11 till 2023-04-17.\n",
      "Took 0.14 sec.\n",
      "\n",
      "Processed PM2_5 for Albuquerque since 2022-12-31 till 2023-04-17.\n",
      "Took 0.19 sec.\n",
      "\n",
      "Processed PM2_5 for Atlanta since 2022-12-31 till 2023-04-17.\n",
      "Took 0.19 sec.\n",
      "\n",
      "Processed PM2_5 for Chicago since 2022-12-31 till 2023-04-17.\n",
      "Took 0.19 sec.\n",
      "\n",
      "Processed PM2_5 for Columbus since 2022-12-31 till 2023-04-17.\n",
      "Took 0.19 sec.\n",
      "\n",
      "Processed PM2_5 for Dallas since 2022-12-31 till 2023-04-17.\n",
      "Took 0.2 sec.\n",
      "\n",
      "Processed PM2_5 for Denver since 2022-12-31 till 2023-04-17.\n",
      "Took 0.2 sec.\n",
      "\n",
      "Processed PM2_5 for Houston since 2022-12-31 till 2023-04-17.\n",
      "Took 0.19 sec.\n",
      "\n",
      "Processed PM2_5 for Los Angeles since 2022-12-31 till 2023-04-17.\n",
      "Took 0.19 sec.\n",
      "\n",
      "Processed PM2_5 for New York since 2022-12-31 till 2023-04-17.\n",
      "Took 0.18 sec.\n",
      "\n",
      "Processed PM2_5 for Phoenix-Mesa since 2022-12-31 till 2023-04-17.\n",
      "Took 0.2 sec.\n",
      "\n",
      "Processed PM2_5 for Salt Lake City since 2022-12-31 till 2023-04-17.\n",
      "Took 0.18 sec.\n",
      "\n",
      "Processed PM2_5 for San Francisco since 2022-12-31 till 2023-04-17.\n",
      "Took 0.19 sec.\n",
      "\n",
      "Processed PM2_5 for Tampa since 2022-12-31 till 2023-04-17.\n",
      "Took 0.2 sec.\n",
      "\n",
      "----------------------------------------------------------------\n",
      "Parsed new PM2.5 data for ALL locations up to 2023-04-17.\n",
      "Took 7.26 sec.\n",
      "\n"
     ]
    }
   ],
   "source": [
    "start_of_cell = time.time()\n",
    "\n",
    "df_aq_update = pd.DataFrame()\n",
    "\n",
    "for continent in target_cities:\n",
    "    for city_name, coords in target_cities[continent].items():\n",
    "        df_ = get_aqi_data_from_open_meteo(city_name=city_name,\n",
    "                                           coordinates=coords,\n",
    "                                           start_date=last_dates_aq[city_name],\n",
    "                                           end_date=str(today))\n",
    "        df_aq_update = pd.concat([df_aq_update, df_]).reset_index(drop=True)\n",
    "    \n",
    "    \n",
    "end_of_cell = time.time()\n",
    "print(\"-\" * 64)\n",
    "print(f\"Parsed new PM2.5 data for ALL locations up to {str(today)}.\")\n",
    "print(f\"Took {round(end_of_cell - start_of_cell, 2)} sec.\\n\")"
   ]
  },
  {
   "cell_type": "code",
   "execution_count": 51,
   "id": "f10a086e-5e5b-4631-95a2-09e940303f69",
   "metadata": {
    "tags": []
   },
   "outputs": [],
   "source": [
    "df_air_quality = pd.concat([\n",
    "    df_aq_backfill, df_aq_update\n",
    "]).reset_index(drop=True)"
   ]
  },
  {
   "cell_type": "code",
   "execution_count": 52,
   "id": "083ff8fd-9430-4ccf-b1be-dce596cad28c",
   "metadata": {
    "tags": []
   },
   "outputs": [
    {
     "data": {
      "text/plain": [
       "(158065, 3)"
      ]
     },
     "execution_count": 52,
     "metadata": {},
     "output_type": "execute_result"
    }
   ],
   "source": [
    "df_air_quality.shape"
   ]
  },
  {
   "cell_type": "code",
   "execution_count": 53,
   "id": "ff363a18-bb51-430b-b89f-214e92b72b6c",
   "metadata": {
    "scrolled": true,
    "tags": []
   },
   "outputs": [
    {
     "data": {
      "text/html": [
       "<div>\n",
       "<style scoped>\n",
       "    .dataframe tbody tr th:only-of-type {\n",
       "        vertical-align: middle;\n",
       "    }\n",
       "\n",
       "    .dataframe tbody tr th {\n",
       "        vertical-align: top;\n",
       "    }\n",
       "\n",
       "    .dataframe thead th {\n",
       "        text-align: right;\n",
       "    }\n",
       "</style>\n",
       "<table border=\"1\" class=\"dataframe\">\n",
       "  <thead>\n",
       "    <tr style=\"text-align: right;\">\n",
       "      <th></th>\n",
       "      <th>date</th>\n",
       "    </tr>\n",
       "    <tr>\n",
       "      <th>city_name</th>\n",
       "      <th></th>\n",
       "    </tr>\n",
       "  </thead>\n",
       "  <tbody>\n",
       "    <tr>\n",
       "      <th>Albuquerque</th>\n",
       "      <td>3757</td>\n",
       "    </tr>\n",
       "    <tr>\n",
       "      <th>Amsterdam</th>\n",
       "      <td>3760</td>\n",
       "    </tr>\n",
       "    <tr>\n",
       "      <th>Athina</th>\n",
       "      <td>3760</td>\n",
       "    </tr>\n",
       "    <tr>\n",
       "      <th>Atlanta</th>\n",
       "      <td>3754</td>\n",
       "    </tr>\n",
       "    <tr>\n",
       "      <th>Bellevue-SE 12th St</th>\n",
       "      <td>2187</td>\n",
       "    </tr>\n",
       "    <tr>\n",
       "      <th>Berlin</th>\n",
       "      <td>3760</td>\n",
       "    </tr>\n",
       "    <tr>\n",
       "      <th>Chicago</th>\n",
       "      <td>3758</td>\n",
       "    </tr>\n",
       "    <tr>\n",
       "      <th>Columbus</th>\n",
       "      <td>2599</td>\n",
       "    </tr>\n",
       "    <tr>\n",
       "      <th>DARRINGTON - FIR ST (Darrington High School)</th>\n",
       "      <td>3629</td>\n",
       "    </tr>\n",
       "    <tr>\n",
       "      <th>Dallas</th>\n",
       "      <td>3755</td>\n",
       "    </tr>\n",
       "    <tr>\n",
       "      <th>Denver</th>\n",
       "      <td>3758</td>\n",
       "    </tr>\n",
       "    <tr>\n",
       "      <th>Gdansk</th>\n",
       "      <td>3760</td>\n",
       "    </tr>\n",
       "    <tr>\n",
       "      <th>Houston</th>\n",
       "      <td>3751</td>\n",
       "    </tr>\n",
       "    <tr>\n",
       "      <th>KENT - JAMES &amp; CENTRAL</th>\n",
       "      <td>3571</td>\n",
       "    </tr>\n",
       "    <tr>\n",
       "      <th>Kraków</th>\n",
       "      <td>3760</td>\n",
       "    </tr>\n",
       "    <tr>\n",
       "      <th>LAKE FOREST PARK TOWNE CENTER</th>\n",
       "      <td>3014</td>\n",
       "    </tr>\n",
       "    <tr>\n",
       "      <th>London</th>\n",
       "      <td>3760</td>\n",
       "    </tr>\n",
       "    <tr>\n",
       "      <th>Los Angeles</th>\n",
       "      <td>3548</td>\n",
       "    </tr>\n",
       "    <tr>\n",
       "      <th>MARYSVILLE - 7TH AVE (Marysville Junior High)</th>\n",
       "      <td>3663</td>\n",
       "    </tr>\n",
       "    <tr>\n",
       "      <th>Madrid</th>\n",
       "      <td>3760</td>\n",
       "    </tr>\n",
       "    <tr>\n",
       "      <th>Marseille</th>\n",
       "      <td>3759</td>\n",
       "    </tr>\n",
       "    <tr>\n",
       "      <th>Milano</th>\n",
       "      <td>3760</td>\n",
       "    </tr>\n",
       "    <tr>\n",
       "      <th>München</th>\n",
       "      <td>3760</td>\n",
       "    </tr>\n",
       "    <tr>\n",
       "      <th>NORTH BEND - NORTH BEND WAY</th>\n",
       "      <td>3720</td>\n",
       "    </tr>\n",
       "    <tr>\n",
       "      <th>Napoli</th>\n",
       "      <td>3760</td>\n",
       "    </tr>\n",
       "    <tr>\n",
       "      <th>New York</th>\n",
       "      <td>3760</td>\n",
       "    </tr>\n",
       "    <tr>\n",
       "      <th>Paris</th>\n",
       "      <td>3760</td>\n",
       "    </tr>\n",
       "    <tr>\n",
       "      <th>Phoenix-Mesa</th>\n",
       "      <td>3760</td>\n",
       "    </tr>\n",
       "    <tr>\n",
       "      <th>SEATTLE - BEACON HILL</th>\n",
       "      <td>3706</td>\n",
       "    </tr>\n",
       "    <tr>\n",
       "      <th>SEATTLE - DUWAMISH</th>\n",
       "      <td>3454</td>\n",
       "    </tr>\n",
       "    <tr>\n",
       "      <th>SEATTLE - SOUTH PARK #2</th>\n",
       "      <td>3592</td>\n",
       "    </tr>\n",
       "    <tr>\n",
       "      <th>Salt Lake City</th>\n",
       "      <td>3759</td>\n",
       "    </tr>\n",
       "    <tr>\n",
       "      <th>San Francisco</th>\n",
       "      <td>3760</td>\n",
       "    </tr>\n",
       "    <tr>\n",
       "      <th>Seattle-10th &amp; Weller</th>\n",
       "      <td>3112</td>\n",
       "    </tr>\n",
       "    <tr>\n",
       "      <th>Sevilla</th>\n",
       "      <td>3760</td>\n",
       "    </tr>\n",
       "    <tr>\n",
       "      <th>Stockholm</th>\n",
       "      <td>3760</td>\n",
       "    </tr>\n",
       "    <tr>\n",
       "      <th>TACOMA - ALEXANDER AVE</th>\n",
       "      <td>3585</td>\n",
       "    </tr>\n",
       "    <tr>\n",
       "      <th>TACOMA - L STREET</th>\n",
       "      <td>3711</td>\n",
       "    </tr>\n",
       "    <tr>\n",
       "      <th>Tacoma-S 36th St</th>\n",
       "      <td>2589</td>\n",
       "    </tr>\n",
       "    <tr>\n",
       "      <th>Tallinn</th>\n",
       "      <td>3760</td>\n",
       "    </tr>\n",
       "    <tr>\n",
       "      <th>Tampa</th>\n",
       "      <td>3722</td>\n",
       "    </tr>\n",
       "    <tr>\n",
       "      <th>Tukwila Allentown</th>\n",
       "      <td>2089</td>\n",
       "    </tr>\n",
       "    <tr>\n",
       "      <th>Tulalip-Totem Beach Rd</th>\n",
       "      <td>1083</td>\n",
       "    </tr>\n",
       "    <tr>\n",
       "      <th>Varna</th>\n",
       "      <td>3760</td>\n",
       "    </tr>\n",
       "    <tr>\n",
       "      <th>Wien</th>\n",
       "      <td>3760</td>\n",
       "    </tr>\n",
       "  </tbody>\n",
       "</table>\n",
       "</div>"
      ],
      "text/plain": [
       "                                               date\n",
       "city_name                                          \n",
       "Albuquerque                                    3757\n",
       "Amsterdam                                      3760\n",
       "Athina                                         3760\n",
       "Atlanta                                        3754\n",
       "Bellevue-SE 12th St                            2187\n",
       "Berlin                                         3760\n",
       "Chicago                                        3758\n",
       "Columbus                                       2599\n",
       "DARRINGTON - FIR ST (Darrington High School)   3629\n",
       "Dallas                                         3755\n",
       "Denver                                         3758\n",
       "Gdansk                                         3760\n",
       "Houston                                        3751\n",
       "KENT - JAMES & CENTRAL                         3571\n",
       "Kraków                                         3760\n",
       "LAKE FOREST PARK TOWNE CENTER                  3014\n",
       "London                                         3760\n",
       "Los Angeles                                    3548\n",
       "MARYSVILLE - 7TH AVE (Marysville Junior High)  3663\n",
       "Madrid                                         3760\n",
       "Marseille                                      3759\n",
       "Milano                                         3760\n",
       "München                                        3760\n",
       "NORTH BEND - NORTH BEND WAY                    3720\n",
       "Napoli                                         3760\n",
       "New York                                       3760\n",
       "Paris                                          3760\n",
       "Phoenix-Mesa                                   3760\n",
       "SEATTLE - BEACON HILL                          3706\n",
       "SEATTLE - DUWAMISH                             3454\n",
       "SEATTLE - SOUTH PARK #2                        3592\n",
       "Salt Lake City                                 3759\n",
       "San Francisco                                  3760\n",
       "Seattle-10th & Weller                          3112\n",
       "Sevilla                                        3760\n",
       "Stockholm                                      3760\n",
       "TACOMA - ALEXANDER AVE                         3585\n",
       "TACOMA - L STREET                              3711\n",
       "Tacoma-S 36th St                               2589\n",
       "Tallinn                                        3760\n",
       "Tampa                                          3722\n",
       "Tukwila Allentown                              2089\n",
       "Tulalip-Totem Beach Rd                         1083\n",
       "Varna                                          3760\n",
       "Wien                                           3760"
      ]
     },
     "execution_count": 53,
     "metadata": {},
     "output_type": "execute_result"
    }
   ],
   "source": [
    "# how many observations (days) we have per one location\n",
    "df_air_quality[['city_name', 'date']].groupby('city_name').count()"
   ]
  },
  {
   "cell_type": "code",
   "execution_count": 54,
   "id": "7a8f89d0-deba-48fd-b5e5-dc83d1ee548c",
   "metadata": {
    "tags": []
   },
   "outputs": [],
   "source": [
    "df_air_quality.to_csv(\"data/backfill_pm2_5.csv\", index=False)"
   ]
  },
  {
   "cell_type": "markdown",
   "id": "756ab87a-102c-4e11-adfa-0deecbd031c2",
   "metadata": {
    "jp-MarkdownHeadingCollapsed": true,
    "tags": []
   },
   "source": [
    "# Weather data [Open Meteo](https://open-meteo.com/)"
   ]
  },
  {
   "cell_type": "code",
   "execution_count": 26,
   "id": "e78b872b-eab3-441f-8189-442f8c119fde",
   "metadata": {
    "tags": []
   },
   "outputs": [],
   "source": [
    "def get_weather_data_from_open_meteo(city_name: str,\n",
    "                                     start_date: str,\n",
    "                                     end_date: str,\n",
    "                                     coordinates: list = None,\n",
    "                                     forecast: bool = False):\n",
    "    \"\"\"\n",
    "    Takes [city name OR coordinates] and returns pandas DataFrame with weather data.\n",
    "    \n",
    "    Examples of arguments:\n",
    "        coordinates=(47.755, -122.2806), start_date=\"2023-01-01\"\n",
    "    \"\"\"\n",
    "    start_of_cell = time.time()\n",
    "    \n",
    "    if coordinates:\n",
    "        latitude, longitude = coordinates\n",
    "    else:\n",
    "        latitude, longitude = get_city_coordinates(city_name=city_name)\n",
    "    \n",
    "    params = {\n",
    "        'latitude': latitude,\n",
    "        'longitude': longitude,\n",
    "        'daily': [\"temperature_2m_max\", \"temperature_2m_min\",\n",
    "                  \"precipitation_sum\", \"rain_sum\", \"snowfall_sum\",\n",
    "                  \"precipitation_hours\", \"windspeed_10m_max\",\n",
    "                  \"windgusts_10m_max\", \"winddirection_10m_dominant\"],\n",
    "        'start_date': start_date,\n",
    "        'end_date': end_date,\n",
    "        'timezone': \"Europe/London\"\n",
    "    }\n",
    "    \n",
    "    if forecast:\n",
    "        # historical forecast endpoint\n",
    "        base_url = 'https://api.open-meteo.com/v1/forecast' \n",
    "    else:\n",
    "        # historical observations endpoint\n",
    "        base_url = 'https://archive-api.open-meteo.com/v1/archive' \n",
    "        \n",
    "    response = requests.get(base_url, params=params)\n",
    "\n",
    "    response_json = response.json()    \n",
    "    res_df = pd.DataFrame(response_json[\"daily\"])\n",
    "    \n",
    "    res_df[\"city_name\"] = city_name\n",
    "    \n",
    "    # rename columns\n",
    "    res_df = res_df.rename(columns={\n",
    "        \"time\": \"date\",\n",
    "        \"temperature_2m_max\": \"temperature_max\",\n",
    "        \"temperature_2m_min\": \"temperature_min\",\n",
    "        \"windspeed_10m_max\": \"wind_speed_max\",\n",
    "        \"winddirection_10m_dominant\": \"wind_direction_dominant\",\n",
    "        \"windgusts_10m_max\": \"wind_gusts_max\"\n",
    "    })\n",
    "    \n",
    "    # change columns order\n",
    "    res_df = res_df[\n",
    "        ['city_name', 'date', 'temperature_max', 'temperature_min',\n",
    "         'precipitation_sum', 'rain_sum', 'snowfall_sum',\n",
    "         'precipitation_hours', 'wind_speed_max',\n",
    "         'wind_gusts_max', 'wind_direction_dominant']\n",
    "    ]\n",
    "    \n",
    "    # convert dates in 'date' column\n",
    "    res_df[\"date\"] = pd.to_datetime(res_df[\"date\"])\n",
    "    \n",
    "#     # create 'unix' columns\n",
    "#     res_df[\"unix_time\"] = res_df[\"base_time\"].apply(convert_date_to_unix)\n",
    "    end_of_cell = time.time()\n",
    "    print(f\"Parsed weather for {city_name} since {start_date} till {end_date}.\")\n",
    "    print(f\"Took {round(end_of_cell - start_of_cell, 2)} sec.\\n\")\n",
    "        \n",
    "    return res_df"
   ]
  },
  {
   "cell_type": "markdown",
   "id": "7fa203b7-f4ba-45a6-a19d-3bad9bcaa12d",
   "metadata": {},
   "source": [
    "# Filling the gap in weather data"
   ]
  },
  {
   "cell_type": "code",
   "execution_count": 55,
   "id": "52c8436f-121d-4221-bdc5-9689795b1311",
   "metadata": {
    "tags": []
   },
   "outputs": [],
   "source": [
    "df_weather_backfill = pd.read_csv(\"data/backfill_weather.csv\")"
   ]
  },
  {
   "cell_type": "code",
   "execution_count": 56,
   "id": "465a3237-dbcb-4f0d-8d05-3af41888235f",
   "metadata": {
    "tags": []
   },
   "outputs": [],
   "source": [
    "last_dates_weather = df_weather_backfill[[\"date\", \"city_name\"]].groupby(\"city_name\").max()\n",
    "last_dates_weather.date = last_dates_weather.date.astype(str)\n",
    "last_dates_weather = last_dates_weather.to_dict()[\"date\"]"
   ]
  },
  {
   "cell_type": "code",
   "execution_count": 57,
   "id": "c7c5b828-1c13-476b-ba3e-3fb51a14ea2b",
   "metadata": {
    "scrolled": true,
    "tags": []
   },
   "outputs": [
    {
     "name": "stdout",
     "output_type": "stream",
     "text": [
      "Parsed weather for NORTH BEND - NORTH BEND WAY since 2023-04-03 till 2023-04-17.\n",
      "Took 0.15 sec.\n",
      "\n",
      "Parsed weather for LAKE FOREST PARK TOWNE CENTER since 2023-04-03 till 2023-04-17.\n",
      "Took 0.15 sec.\n",
      "\n",
      "Parsed weather for SEATTLE - DUWAMISH since 2023-04-03 till 2023-04-17.\n",
      "Took 0.14 sec.\n",
      "\n",
      "Parsed weather for SEATTLE - BEACON HILL since 2023-04-03 till 2023-04-17.\n",
      "Took 0.13 sec.\n",
      "\n",
      "Parsed weather for SEATTLE - SOUTH PARK #2 since 2023-04-03 till 2023-04-17.\n",
      "Took 0.13 sec.\n",
      "\n",
      "Parsed weather for KENT - JAMES & CENTRAL since 2023-04-03 till 2023-04-17.\n",
      "Took 0.13 sec.\n",
      "\n",
      "Parsed weather for TACOMA - L STREET since 2023-04-03 till 2023-04-17.\n",
      "Took 0.13 sec.\n",
      "\n",
      "Parsed weather for TACOMA - ALEXANDER AVE since 2023-04-02 till 2023-04-17.\n",
      "Took 0.13 sec.\n",
      "\n",
      "Parsed weather for DARRINGTON - FIR ST (Darrington High School) since 2023-04-03 till 2023-04-17.\n",
      "Took 0.14 sec.\n",
      "\n",
      "Parsed weather for MARYSVILLE - 7TH AVE (Marysville Junior High) since 2023-04-03 till 2023-04-17.\n",
      "Took 0.15 sec.\n",
      "\n",
      "Parsed weather for Seattle-10th & Weller since 2023-04-03 till 2023-04-17.\n",
      "Took 0.14 sec.\n",
      "\n",
      "Parsed weather for Bellevue-SE 12th St since 2023-04-03 till 2023-04-17.\n",
      "Took 0.13 sec.\n",
      "\n",
      "Parsed weather for Tacoma-S 36th St since 2023-04-03 till 2023-04-17.\n",
      "Took 0.14 sec.\n",
      "\n",
      "Parsed weather for Tukwila Allentown since 2023-04-03 till 2023-04-17.\n",
      "Took 0.13 sec.\n",
      "\n",
      "Parsed weather for Tulalip-Totem Beach Rd since 2023-04-03 till 2023-04-17.\n",
      "Took 0.13 sec.\n",
      "\n",
      "Parsed weather for Amsterdam since 2023-04-11 till 2023-04-17.\n",
      "Took 0.13 sec.\n",
      "\n",
      "Parsed weather for Athina since 2023-04-11 till 2023-04-17.\n",
      "Took 0.13 sec.\n",
      "\n",
      "Parsed weather for Berlin since 2023-04-11 till 2023-04-17.\n",
      "Took 0.13 sec.\n",
      "\n",
      "Parsed weather for Gdansk since 2023-04-11 till 2023-04-17.\n",
      "Took 0.13 sec.\n",
      "\n",
      "Parsed weather for Kraków since 2023-04-11 till 2023-04-17.\n",
      "Took 0.13 sec.\n",
      "\n",
      "Parsed weather for London since 2023-04-11 till 2023-04-17.\n",
      "Took 0.13 sec.\n",
      "\n",
      "Parsed weather for Madrid since 2023-04-11 till 2023-04-17.\n",
      "Took 0.14 sec.\n",
      "\n",
      "Parsed weather for Marseille since 2023-04-11 till 2023-04-17.\n",
      "Took 0.14 sec.\n",
      "\n",
      "Parsed weather for Milano since 2023-04-11 till 2023-04-17.\n",
      "Took 0.14 sec.\n",
      "\n",
      "Parsed weather for München since 2023-04-11 till 2023-04-17.\n",
      "Took 0.13 sec.\n",
      "\n",
      "Parsed weather for Napoli since 2023-04-11 till 2023-04-17.\n",
      "Took 0.14 sec.\n",
      "\n",
      "Parsed weather for Paris since 2023-04-11 till 2023-04-17.\n",
      "Took 0.13 sec.\n",
      "\n",
      "Parsed weather for Sevilla since 2023-04-11 till 2023-04-17.\n",
      "Took 0.13 sec.\n",
      "\n",
      "Parsed weather for Stockholm since 2023-04-11 till 2023-04-17.\n",
      "Took 0.13 sec.\n",
      "\n",
      "Parsed weather for Tallinn since 2023-04-11 till 2023-04-17.\n",
      "Took 0.13 sec.\n",
      "\n",
      "Parsed weather for Varna since 2022-08-02 till 2023-04-17.\n",
      "Took 0.49 sec.\n",
      "\n",
      "Parsed weather for Wien since 2023-04-11 till 2023-04-17.\n",
      "Took 0.13 sec.\n",
      "\n",
      "Parsed weather for Albuquerque since 2022-12-31 till 2023-04-17.\n",
      "Took 0.73 sec.\n",
      "\n",
      "Parsed weather for Atlanta since 2022-12-31 till 2023-04-17.\n",
      "Took 0.51 sec.\n",
      "\n",
      "Parsed weather for Chicago since 2022-12-31 till 2023-04-17.\n",
      "Took 0.51 sec.\n",
      "\n",
      "Parsed weather for Columbus since 2022-12-31 till 2023-04-17.\n",
      "Took 0.41 sec.\n",
      "\n",
      "Parsed weather for Dallas since 2022-12-31 till 2023-04-17.\n",
      "Took 0.41 sec.\n",
      "\n",
      "Parsed weather for Denver since 2022-12-31 till 2023-04-17.\n",
      "Took 0.31 sec.\n",
      "\n",
      "Parsed weather for Houston since 2022-12-31 till 2023-04-17.\n",
      "Took 0.51 sec.\n",
      "\n",
      "Parsed weather for Los Angeles since 2022-12-31 till 2023-04-17.\n",
      "Took 0.37 sec.\n",
      "\n",
      "Parsed weather for New York since 2022-12-31 till 2023-04-17.\n",
      "Took 0.34 sec.\n",
      "\n",
      "Parsed weather for Phoenix-Mesa since 2022-12-31 till 2023-04-17.\n",
      "Took 0.25 sec.\n",
      "\n",
      "Parsed weather for Salt Lake City since 2022-12-31 till 2023-04-17.\n",
      "Took 0.16 sec.\n",
      "\n",
      "Parsed weather for San Francisco since 2022-12-31 till 2023-04-17.\n",
      "Took 0.33 sec.\n",
      "\n",
      "Parsed weather for Tampa since 2022-12-31 till 2023-04-17.\n",
      "Took 0.32 sec.\n",
      "\n",
      "----------------------------------------------------------------\n",
      "Parsed new weather data for ALL cities up to 2023-04-17.\n",
      "Took 9.88 sec.\n",
      "\n"
     ]
    }
   ],
   "source": [
    "start_of_cell = time.time()\n",
    "\n",
    "df_weather_update = pd.DataFrame()\n",
    "\n",
    "\n",
    "for continent in target_cities:\n",
    "    for city_name, coords in target_cities[continent].items():\n",
    "        df_ = get_weather_data_from_open_meteo(city_name=city_name,\n",
    "                                               coordinates=coords,\n",
    "                                               start_date=last_dates_aq[city_name],\n",
    "                                               end_date=str(today),\n",
    "                                               forecast=True)\n",
    "        df_weather_update = pd.concat([df_weather_update, df_]).reset_index(drop=True)\n",
    "    \n",
    "    \n",
    "end_of_cell = time.time()\n",
    "print(\"-\" * 64)\n",
    "print(f\"Parsed new weather data for ALL cities up to {str(today)}.\")\n",
    "print(f\"Took {round(end_of_cell - start_of_cell, 2)} sec.\\n\")"
   ]
  },
  {
   "cell_type": "code",
   "execution_count": 58,
   "id": "3aa44f6a-113d-473b-ab0f-f5ba4c423658",
   "metadata": {
    "tags": []
   },
   "outputs": [
    {
     "data": {
      "text/html": [
       "<div>\n",
       "<style scoped>\n",
       "    .dataframe tbody tr th:only-of-type {\n",
       "        vertical-align: middle;\n",
       "    }\n",
       "\n",
       "    .dataframe tbody tr th {\n",
       "        vertical-align: top;\n",
       "    }\n",
       "\n",
       "    .dataframe thead th {\n",
       "        text-align: right;\n",
       "    }\n",
       "</style>\n",
       "<table border=\"1\" class=\"dataframe\">\n",
       "  <thead>\n",
       "    <tr style=\"text-align: right;\">\n",
       "      <th></th>\n",
       "      <th>city_name</th>\n",
       "      <th>date</th>\n",
       "      <th>temperature_max</th>\n",
       "      <th>temperature_min</th>\n",
       "      <th>precipitation_sum</th>\n",
       "      <th>rain_sum</th>\n",
       "      <th>snowfall_sum</th>\n",
       "      <th>precipitation_hours</th>\n",
       "      <th>wind_speed_max</th>\n",
       "      <th>wind_gusts_max</th>\n",
       "      <th>wind_direction_dominant</th>\n",
       "    </tr>\n",
       "  </thead>\n",
       "  <tbody>\n",
       "    <tr>\n",
       "      <th>1987</th>\n",
       "      <td>Tampa</td>\n",
       "      <td>2023-04-04</td>\n",
       "      <td>31.4</td>\n",
       "      <td>18.9</td>\n",
       "      <td>0.0</td>\n",
       "      <td>0.0</td>\n",
       "      <td>0.0</td>\n",
       "      <td>0.0</td>\n",
       "      <td>13.5</td>\n",
       "      <td>21.6</td>\n",
       "      <td>225.0</td>\n",
       "    </tr>\n",
       "  </tbody>\n",
       "</table>\n",
       "</div>"
      ],
      "text/plain": [
       "     city_name       date  temperature_max  temperature_min  \\\n",
       "1987     Tampa 2023-04-04             31.4             18.9   \n",
       "\n",
       "      precipitation_sum  rain_sum  snowfall_sum  precipitation_hours  \\\n",
       "1987                0.0       0.0           0.0                  0.0   \n",
       "\n",
       "      wind_speed_max  wind_gusts_max  wind_direction_dominant  \n",
       "1987            13.5            21.6                    225.0  "
      ]
     },
     "execution_count": 58,
     "metadata": {},
     "output_type": "execute_result"
    }
   ],
   "source": [
    "df_weather_update.sample()"
   ]
  },
  {
   "cell_type": "code",
   "execution_count": 59,
   "id": "f0036c78-5c69-4bb9-8684-c0e289620533",
   "metadata": {
    "tags": []
   },
   "outputs": [],
   "source": [
    "df_weather = pd.concat([df_weather_backfill, df_weather_update])"
   ]
  },
  {
   "cell_type": "code",
   "execution_count": 60,
   "id": "1b473f2b-632f-4672-b9e4-a302f07e2aa0",
   "metadata": {
    "tags": []
   },
   "outputs": [
    {
     "data": {
      "text/plain": [
       "(170976, 11)"
      ]
     },
     "execution_count": 60,
     "metadata": {},
     "output_type": "execute_result"
    }
   ],
   "source": [
    "df_weather.shape"
   ]
  },
  {
   "cell_type": "code",
   "execution_count": null,
   "id": "e8730c28-be29-4749-9d7a-05074d9ba5a0",
   "metadata": {},
   "outputs": [],
   "source": []
  }
 ],
 "metadata": {
  "kernelspec": {
   "display_name": "Python 3 (ipykernel)",
   "language": "python",
   "name": "python3"
  },
  "language_info": {
   "codemirror_mode": {
    "name": "ipython",
    "version": 3
   },
   "file_extension": ".py",
   "mimetype": "text/x-python",
   "name": "python",
   "nbconvert_exporter": "python",
   "pygments_lexer": "ipython3",
   "version": "3.8.16"
  }
 },
 "nbformat": 4,
 "nbformat_minor": 5
}
