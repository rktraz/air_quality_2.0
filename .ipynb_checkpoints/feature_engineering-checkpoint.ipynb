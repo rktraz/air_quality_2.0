{
 "cells": [
  {
   "cell_type": "code",
   "execution_count": 24,
   "id": "3e022413-fef1-44ee-9e1a-2f6e5478a224",
   "metadata": {
    "tags": []
   },
   "outputs": [],
   "source": [
    "import os\n",
    "import datetime\n",
    "import time\n",
    "import requests\n",
    "import json\n",
    "import ast\n",
    "\n",
    "import pandas as pd\n",
    "import numpy as np\n",
    "\n",
    "from geopy.geocoders import Nominatim"
   ]
  },
  {
   "cell_type": "code",
   "execution_count": 6,
   "id": "4e4ad4d6-f619-4f1c-a485-2d2704e985a4",
   "metadata": {
    "tags": []
   },
   "outputs": [],
   "source": [
    "with open('target_cities.json') as json_file:\n",
    "    target_cities = json.load(json_file)"
   ]
  },
  {
   "cell_type": "markdown",
   "id": "471f1599-dae9-4dab-8a48-cf2cb5b398d1",
   "metadata": {
    "tags": []
   },
   "source": [
    "# Feature Engineering: Air Quality data"
   ]
  },
  {
   "cell_type": "code",
   "execution_count": 51,
   "id": "661a3fea-32d6-4b0d-ae53-c803b039da62",
   "metadata": {
    "tags": []
   },
   "outputs": [],
   "source": [
    "df_air_quality = pd.read_csv(\"backfill_pm2_5.csv\")"
   ]
  },
  {
   "cell_type": "code",
   "execution_count": 52,
   "id": "ef5244af-9f5a-4b63-aef4-54e0c9ce3fd4",
   "metadata": {
    "tags": []
   },
   "outputs": [],
   "source": [
    "def calculate_periodic_features(df):\n",
    "    df_res = df.copy()\n",
    "    # Extract year, month, and day of the week from the 'date' column\n",
    "    df_res['year'] = pd.to_datetime(df_res['date']).dt.year\n",
    "    df_res['day_of_month'] = pd.to_datetime(df_res['date']).dt.day\n",
    "    df_res['month'] = pd.to_datetime(df_res['date']).dt.month\n",
    "    df_res['day_of_week'] = pd.to_datetime(df_res['date']).dt.dayofweek\n",
    "    df_res['is_weekend'] = np.where(df_res['day_of_week'].isin([5,6]), 1, 0)\n",
    "    day_of_year = pd.to_datetime(df_res['date']).dt.dayofyear\n",
    "       \n",
    "    df_res['sin_day_of_year'] = np.sin(2 * np.pi * day_of_year / 365)\n",
    "    df_res['cos_day_of_year'] = np.cos(2 * np.pi * day_of_year / 365)\n",
    "    df_res['sin_day_of_week'] = np.sin(2 * np.pi * df_res['day_of_week'] / 7)\n",
    "    df_res['cos_day_of_week'] = np.cos(2 * np.pi * df_res['day_of_week'] / 7)\n",
    "\n",
    "    return df_res"
   ]
  },
  {
   "cell_type": "code",
   "execution_count": 53,
   "id": "8331112e-f07b-448b-8f76-a4df7105e874",
   "metadata": {
    "tags": []
   },
   "outputs": [],
   "source": [
    "def moving_average(df, window=7):\n",
    "    df[f'mean_{window}_days'] = df.groupby('city_name')['pm2_5'] \\\n",
    "                                    .rolling(window=window).mean().reset_index(0,drop=True).shift(1)\n",
    "    return df\n",
    "\n",
    "\n",
    "def moving_std(df, window):\n",
    "    df[f'std_{window}_days'] = df.groupby('city_name')['pm2_5'] \\\n",
    "                                    .rolling(window=window).std().reset_index(0,drop=True).shift(1)\n",
    "    return df\n",
    "\n",
    "\n",
    "def exponential_moving_average(df, window):\n",
    "    df[f'exp_mean_{window}_days'] = df.groupby('city_name')['pm2_5'].ewm(span=window) \\\n",
    "                                        .mean().reset_index(0,drop=True).shift(1)\n",
    "    return df\n",
    "\n",
    "\n",
    "def exponential_moving_std(df, window):\n",
    "    df[f'exp_std_{window}_days'] = df.groupby('city_name')['pm2_5'].ewm(span=window) \\\n",
    "                                        .std().reset_index(0,drop=True).shift(1)\n",
    "    return df\n"
   ]
  },
  {
   "cell_type": "code",
   "execution_count": 54,
   "id": "7cb9f3e6-5377-4367-9255-64d25d06c112",
   "metadata": {
    "scrolled": true,
    "tags": []
   },
   "outputs": [],
   "source": [
    "df_air_quality['pm_2_5-1'] = df_air_quality.groupby('city_name')['pm2_5'].shift(+1) # day before\n",
    "df_air_quality['pm_2_5-2'] = df_air_quality.groupby('city_name')['pm2_5'].shift(+2) # two days before\n",
    "df_air_quality['pm_2_5-3'] = df_air_quality.groupby('city_name')['pm2_5'].shift(+3)\n",
    "df_air_quality['pm_2_5-4'] = df_air_quality.groupby('city_name')['pm2_5'].shift(+4)\n",
    "df_air_quality['pm_2_5-5'] = df_air_quality.groupby('city_name')['pm2_5'].shift(+5) # five days before\n",
    "\n",
    "df_air_quality = df_air_quality.dropna()\n",
    "\n",
    "df_air_quality = moving_average(df_air_quality, 7)\n",
    "df_air_quality = moving_average(df_air_quality, 14)\n",
    "df_air_quality = moving_average(df_air_quality, 28)\n",
    "\n",
    "\n",
    "for i in [7, 14, 28]:\n",
    "    for func in [moving_std, exponential_moving_average,\n",
    "                 exponential_moving_std\n",
    "                 ]:\n",
    "        df_air_quality = func(df_air_quality, i)\n",
    "        \n",
    "\n",
    "df_air_quality = df_air_quality.sort_values(by=[\"date\", \"pm2_5\"]).dropna()\n",
    "df_air_quality = df_air_quality.reset_index(drop=True)\n",
    "\n",
    "df_air_quality = calculate_periodic_features(df_air_quality)"
   ]
  },
  {
   "cell_type": "code",
   "execution_count": 62,
   "id": "acfe1548-ac85-4aaa-9215-efd9700012ac",
   "metadata": {
    "tags": []
   },
   "outputs": [
    {
     "data": {
      "text/plain": [
       "Index(['city_name', 'date', 'pm2_5', 'pm_2_5-1', 'pm_2_5-2', 'pm_2_5-3',\n",
       "       'pm_2_5-4', 'pm_2_5-5', 'mean_7_days', 'mean_14_days', 'mean_28_days',\n",
       "       'std_7_days', 'exp_mean_7_days', 'exp_std_7_days', 'std_14_days',\n",
       "       'exp_mean_14_days', 'exp_std_14_days', 'std_28_days',\n",
       "       'exp_mean_28_days', 'exp_std_28_days', 'year', 'day_of_month', 'month',\n",
       "       'day_of_week', 'is_weekend', 'sin_day_of_year', 'cos_day_of_year',\n",
       "       'sin_day_of_week', 'cos_day_of_week'],\n",
       "      dtype='object')"
      ]
     },
     "execution_count": 62,
     "metadata": {},
     "output_type": "execute_result"
    }
   ],
   "source": [
    "df_air_quality.columns"
   ]
  },
  {
   "cell_type": "markdown",
   "id": "f8e4e3a4-f517-4870-849c-e357106a4041",
   "metadata": {},
   "source": [
    "# Feature engineering: Weather data"
   ]
  },
  {
   "cell_type": "code",
   "execution_count": 57,
   "id": "e51d204c-96c9-410c-bfe0-f636c5f83b38",
   "metadata": {
    "tags": []
   },
   "outputs": [],
   "source": [
    "df_weather = pd.read_csv(\"data/backfill_weather.csv\")"
   ]
  },
  {
   "cell_type": "code",
   "execution_count": 59,
   "id": "0742255b-0263-45fb-8881-3becd397e862",
   "metadata": {
    "tags": []
   },
   "outputs": [
    {
     "data": {
      "text/html": [
       "<div>\n",
       "<style scoped>\n",
       "    .dataframe tbody tr th:only-of-type {\n",
       "        vertical-align: middle;\n",
       "    }\n",
       "\n",
       "    .dataframe tbody tr th {\n",
       "        vertical-align: top;\n",
       "    }\n",
       "\n",
       "    .dataframe thead th {\n",
       "        text-align: right;\n",
       "    }\n",
       "</style>\n",
       "<table border=\"1\" class=\"dataframe\">\n",
       "  <thead>\n",
       "    <tr style=\"text-align: right;\">\n",
       "      <th></th>\n",
       "      <th>city_name</th>\n",
       "      <th>date</th>\n",
       "      <th>temperature_max</th>\n",
       "      <th>temperature_min</th>\n",
       "      <th>precipitation_sum</th>\n",
       "      <th>rain_sum</th>\n",
       "      <th>snowfall_sum</th>\n",
       "      <th>precipitation_hours</th>\n",
       "      <th>wind_speed_max</th>\n",
       "      <th>wind_gusts_max</th>\n",
       "      <th>wind_direction_dominant</th>\n",
       "    </tr>\n",
       "  </thead>\n",
       "  <tbody>\n",
       "    <tr>\n",
       "      <th>168972</th>\n",
       "      <td>Seattle - Tulalip-Totem Beach Rd</td>\n",
       "      <td>2023-04-11</td>\n",
       "      <td>8.4</td>\n",
       "      <td>3.6</td>\n",
       "      <td>17.4</td>\n",
       "      <td>26.1</td>\n",
       "      <td>0.0</td>\n",
       "      <td>9.0</td>\n",
       "      <td>19.5</td>\n",
       "      <td>37.8</td>\n",
       "      <td>156</td>\n",
       "    </tr>\n",
       "    <tr>\n",
       "      <th>168973</th>\n",
       "      <td>Seattle - Tulalip-Totem Beach Rd</td>\n",
       "      <td>2023-04-12</td>\n",
       "      <td>10.7</td>\n",
       "      <td>1.6</td>\n",
       "      <td>0.0</td>\n",
       "      <td>0.0</td>\n",
       "      <td>0.0</td>\n",
       "      <td>0.0</td>\n",
       "      <td>17.2</td>\n",
       "      <td>24.1</td>\n",
       "      <td>44</td>\n",
       "    </tr>\n",
       "    <tr>\n",
       "      <th>168974</th>\n",
       "      <td>Seattle - Tulalip-Totem Beach Rd</td>\n",
       "      <td>2023-04-13</td>\n",
       "      <td>11.0</td>\n",
       "      <td>3.3</td>\n",
       "      <td>0.0</td>\n",
       "      <td>0.0</td>\n",
       "      <td>0.0</td>\n",
       "      <td>0.0</td>\n",
       "      <td>15.4</td>\n",
       "      <td>32.4</td>\n",
       "      <td>254</td>\n",
       "    </tr>\n",
       "  </tbody>\n",
       "</table>\n",
       "</div>"
      ],
      "text/plain": [
       "                               city_name        date  temperature_max  \\\n",
       "168972  Seattle - Tulalip-Totem Beach Rd  2023-04-11              8.4   \n",
       "168973  Seattle - Tulalip-Totem Beach Rd  2023-04-12             10.7   \n",
       "168974  Seattle - Tulalip-Totem Beach Rd  2023-04-13             11.0   \n",
       "\n",
       "        temperature_min  precipitation_sum  rain_sum  snowfall_sum  \\\n",
       "168972              3.6               17.4      26.1           0.0   \n",
       "168973              1.6                0.0       0.0           0.0   \n",
       "168974              3.3                0.0       0.0           0.0   \n",
       "\n",
       "        precipitation_hours  wind_speed_max  wind_gusts_max  \\\n",
       "168972                  9.0            19.5            37.8   \n",
       "168973                  0.0            17.2            24.1   \n",
       "168974                  0.0            15.4            32.4   \n",
       "\n",
       "        wind_direction_dominant  \n",
       "168972                      156  \n",
       "168973                       44  \n",
       "168974                      254  "
      ]
     },
     "execution_count": 59,
     "metadata": {},
     "output_type": "execute_result"
    }
   ],
   "source": [
    "df_weather.tail(3)"
   ]
  },
  {
   "cell_type": "code",
   "execution_count": 61,
   "id": "fb6ff615-0d6b-4bb9-8ec6-f4a12cb9e4c0",
   "metadata": {
    "tags": []
   },
   "outputs": [
    {
     "data": {
      "text/plain": [
       "Index(['city_name', 'date', 'temperature_max', 'temperature_min',\n",
       "       'precipitation_sum', 'rain_sum', 'snowfall_sum', 'precipitation_hours',\n",
       "       'wind_speed_max', 'wind_gusts_max', 'wind_direction_dominant'],\n",
       "      dtype='object')"
      ]
     },
     "execution_count": 61,
     "metadata": {},
     "output_type": "execute_result"
    }
   ],
   "source": [
    "df_weather.columns"
   ]
  },
  {
   "cell_type": "markdown",
   "id": "3c955630-f727-487b-a58d-18aa92d50d5c",
   "metadata": {
    "tags": []
   },
   "source": [
    "## TBD: Do I really need to do it with weather data also? "
   ]
  }
 ],
 "metadata": {
  "kernelspec": {
   "display_name": "Python 3 (ipykernel)",
   "language": "python",
   "name": "python3"
  },
  "language_info": {
   "codemirror_mode": {
    "name": "ipython",
    "version": 3
   },
   "file_extension": ".py",
   "mimetype": "text/x-python",
   "name": "python",
   "nbconvert_exporter": "python",
   "pygments_lexer": "ipython3",
   "version": "3.8.16"
  }
 },
 "nbformat": 4,
 "nbformat_minor": 5
}
